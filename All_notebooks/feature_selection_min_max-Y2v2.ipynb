{
 "cells": [
  {
   "cell_type": "markdown",
   "metadata": {},
   "source": [
    "# Example Evaluation Code\n",
    "\n",
    "This notebook will be very __similar__ to the code I use to evaluate your results - it is provided for __your convenience__ so that you can use it to evaluate your preprocessing results at any time before your __final submission__.\n",
    "\n",
    "Please note that the results here will __NOT__ be the same as my evaluation results.\n",
    "\n",
    "Let's start with loading the required packages."
   ]
  },
  {
   "cell_type": "code",
   "execution_count": 1,
   "metadata": {
    "collapsed": false
   },
   "outputs": [],
   "source": [
    "# import required package for data handling\n",
    "import pandas as pd\n",
    "import numpy as np\n",
    "\n",
    "# import required packages for splitting data\n",
    "from sklearn import model_selection\n",
    "from sklearn.model_selection import cross_val_score\n",
    "from sklearn.model_selection import train_test_split\n",
    "\n",
    "# import required packages for evaluating models\n",
    "from sklearn import metrics\n",
    "from sklearn.metrics import confusion_matrix\n",
    "from sklearn.metrics import classification_report\n",
    "from sklearn.metrics import roc_auc_score\n",
    "from sklearn.metrics import accuracy_score\n",
    "from sklearn.metrics import precision_recall_fscore_support\n",
    "\n",
    "# import `logistic regression` model\n",
    "from sklearn.linear_model import LogisticRegression\n",
    "\n",
    "\n",
    "#importing libraries\n",
    "from sklearn.datasets import load_boston\n",
    "import pandas as pd\n",
    "import numpy as np\n",
    "import matplotlib\n",
    "import matplotlib.pyplot as plt\n",
    "import seaborn as sns\n",
    "import statsmodels.api as sm\n",
    "%matplotlib inline\n",
    "from sklearn.model_selection import train_test_split\n",
    "from sklearn.linear_model import LinearRegression\n",
    "from sklearn.feature_selection import RFE\n",
    "from sklearn.linear_model import RidgeCV, LassoCV, Ridge, Lasso\n",
    "#Loading the dataset\n"
   ]
  },
  {
   "cell_type": "code",
   "execution_count": null,
   "metadata": {},
   "outputs": [],
   "source": []
  },
  {
   "cell_type": "code",
   "execution_count": 2,
   "metadata": {},
   "outputs": [],
   "source": [
    "data = pd.read_csv('data_skew_imputed_outliers_fixed_min_max2.csv')"
   ]
  },
  {
   "cell_type": "code",
   "execution_count": 3,
   "metadata": {},
   "outputs": [
    {
     "data": {
      "text/html": [
       "<div>\n",
       "<style scoped>\n",
       "    .dataframe tbody tr th:only-of-type {\n",
       "        vertical-align: middle;\n",
       "    }\n",
       "\n",
       "    .dataframe tbody tr th {\n",
       "        vertical-align: top;\n",
       "    }\n",
       "\n",
       "    .dataframe thead th {\n",
       "        text-align: right;\n",
       "    }\n",
       "</style>\n",
       "<table border=\"1\" class=\"dataframe\">\n",
       "  <thead>\n",
       "    <tr style=\"text-align: right;\">\n",
       "      <th></th>\n",
       "      <th>Unnamed: 0</th>\n",
       "      <th>Unnamed: 0.1</th>\n",
       "      <th>I1</th>\n",
       "      <th>I2</th>\n",
       "      <th>I3</th>\n",
       "      <th>P(IPO)</th>\n",
       "      <th>P(H)</th>\n",
       "      <th>P(L)</th>\n",
       "      <th>P(1Day)</th>\n",
       "      <th>C1</th>\n",
       "      <th>...</th>\n",
       "      <th>C4_Imput_min_max</th>\n",
       "      <th>C5_log_Imput_p_outliner_fix_min_max</th>\n",
       "      <th>C6_log_Imput_p_outliner_fix_min_max</th>\n",
       "      <th>C7_log_Imput_outliner_fix_min_max</th>\n",
       "      <th>T3_Imput_ratio_skew_outliner_fix_min_max</th>\n",
       "      <th>T4_Imput_ratio_skew_outliner_fix_min_max</th>\n",
       "      <th>T5_Imput_ratio_skew_outliner_fix_min_max</th>\n",
       "      <th>S1_Imput_ratio_skew_outliner_fix_min_max</th>\n",
       "      <th>S2_Imput_ratio_skew_outliner_fix_min_max</th>\n",
       "      <th>S3_Imput_ratio_skew_outliner_fix_min_max</th>\n",
       "    </tr>\n",
       "  </thead>\n",
       "  <tbody>\n",
       "    <tr>\n",
       "      <th>0</th>\n",
       "      <td>0</td>\n",
       "      <td>0</td>\n",
       "      <td>AATI</td>\n",
       "      <td>ADVANCED ANALOGIC TECHNOLOGIES INC</td>\n",
       "      <td>3674</td>\n",
       "      <td>10.0</td>\n",
       "      <td>9.5</td>\n",
       "      <td>8.5</td>\n",
       "      <td>11.870000</td>\n",
       "      <td>122.0</td>\n",
       "      <td>...</td>\n",
       "      <td>0.749962</td>\n",
       "      <td>0.570295</td>\n",
       "      <td>0.583333</td>\n",
       "      <td>0.405237</td>\n",
       "      <td>0.645300</td>\n",
       "      <td>0.538267</td>\n",
       "      <td>0.558627</td>\n",
       "      <td>0.482158</td>\n",
       "      <td>0.543764</td>\n",
       "      <td>0.484041</td>\n",
       "    </tr>\n",
       "    <tr>\n",
       "      <th>1</th>\n",
       "      <td>1</td>\n",
       "      <td>1</td>\n",
       "      <td>ABPI</td>\n",
       "      <td>ACCENTIA BIOPHARMACEUTICALS INC</td>\n",
       "      <td>2834</td>\n",
       "      <td>8.0</td>\n",
       "      <td>10.0</td>\n",
       "      <td>8.0</td>\n",
       "      <td>7.250000</td>\n",
       "      <td>259.0</td>\n",
       "      <td>...</td>\n",
       "      <td>0.583748</td>\n",
       "      <td>0.063230</td>\n",
       "      <td>0.000000</td>\n",
       "      <td>0.317003</td>\n",
       "      <td>0.546400</td>\n",
       "      <td>0.550357</td>\n",
       "      <td>0.478716</td>\n",
       "      <td>0.241128</td>\n",
       "      <td>0.657184</td>\n",
       "      <td>0.479777</td>\n",
       "    </tr>\n",
       "    <tr>\n",
       "      <th>2</th>\n",
       "      <td>2</td>\n",
       "      <td>2</td>\n",
       "      <td>ACAD</td>\n",
       "      <td>ACADIA PHARMACEUTICALS INC</td>\n",
       "      <td>2834</td>\n",
       "      <td>7.0</td>\n",
       "      <td>14.0</td>\n",
       "      <td>12.0</td>\n",
       "      <td>6.700000</td>\n",
       "      <td>90.0</td>\n",
       "      <td>...</td>\n",
       "      <td>0.717213</td>\n",
       "      <td>0.340587</td>\n",
       "      <td>0.000000</td>\n",
       "      <td>0.154585</td>\n",
       "      <td>0.649815</td>\n",
       "      <td>0.528197</td>\n",
       "      <td>0.756553</td>\n",
       "      <td>0.637358</td>\n",
       "      <td>0.308399</td>\n",
       "      <td>0.521087</td>\n",
       "    </tr>\n",
       "    <tr>\n",
       "      <th>3</th>\n",
       "      <td>3</td>\n",
       "      <td>3</td>\n",
       "      <td>ACHN</td>\n",
       "      <td>ACHILLION PHARMACEUTICALS INC</td>\n",
       "      <td>2834</td>\n",
       "      <td>11.5</td>\n",
       "      <td>16.0</td>\n",
       "      <td>14.0</td>\n",
       "      <td>12.390000</td>\n",
       "      <td>209.0</td>\n",
       "      <td>...</td>\n",
       "      <td>0.714502</td>\n",
       "      <td>0.306943</td>\n",
       "      <td>0.000000</td>\n",
       "      <td>0.173269</td>\n",
       "      <td>0.722131</td>\n",
       "      <td>0.262080</td>\n",
       "      <td>0.753169</td>\n",
       "      <td>0.920559</td>\n",
       "      <td>0.389123</td>\n",
       "      <td>0.653527</td>\n",
       "    </tr>\n",
       "    <tr>\n",
       "      <th>4</th>\n",
       "      <td>4</td>\n",
       "      <td>4</td>\n",
       "      <td>ACLI</td>\n",
       "      <td>AMERICAN COMMERCIAL LINES INC.</td>\n",
       "      <td>4492</td>\n",
       "      <td>21.0</td>\n",
       "      <td>21.0</td>\n",
       "      <td>19.0</td>\n",
       "      <td>56.599998</td>\n",
       "      <td>80.0</td>\n",
       "      <td>...</td>\n",
       "      <td>0.499347</td>\n",
       "      <td>0.495493</td>\n",
       "      <td>0.262500</td>\n",
       "      <td>0.729625</td>\n",
       "      <td>0.442262</td>\n",
       "      <td>0.391683</td>\n",
       "      <td>0.396120</td>\n",
       "      <td>0.435805</td>\n",
       "      <td>0.597081</td>\n",
       "      <td>0.510226</td>\n",
       "    </tr>\n",
       "    <tr>\n",
       "      <th>...</th>\n",
       "      <td>...</td>\n",
       "      <td>...</td>\n",
       "      <td>...</td>\n",
       "      <td>...</td>\n",
       "      <td>...</td>\n",
       "      <td>...</td>\n",
       "      <td>...</td>\n",
       "      <td>...</td>\n",
       "      <td>...</td>\n",
       "      <td>...</td>\n",
       "      <td>...</td>\n",
       "      <td>...</td>\n",
       "      <td>...</td>\n",
       "      <td>...</td>\n",
       "      <td>...</td>\n",
       "      <td>...</td>\n",
       "      <td>...</td>\n",
       "      <td>...</td>\n",
       "      <td>...</td>\n",
       "      <td>...</td>\n",
       "      <td>...</td>\n",
       "    </tr>\n",
       "    <tr>\n",
       "      <th>655</th>\n",
       "      <td>655</td>\n",
       "      <td>655</td>\n",
       "      <td>ZIP</td>\n",
       "      <td>ZIPCAR INC</td>\n",
       "      <td>7514</td>\n",
       "      <td>18.0</td>\n",
       "      <td>16.0</td>\n",
       "      <td>14.0</td>\n",
       "      <td>28.000000</td>\n",
       "      <td>317.0</td>\n",
       "      <td>...</td>\n",
       "      <td>0.654351</td>\n",
       "      <td>0.542871</td>\n",
       "      <td>0.403846</td>\n",
       "      <td>0.571608</td>\n",
       "      <td>0.757798</td>\n",
       "      <td>0.461148</td>\n",
       "      <td>0.456017</td>\n",
       "      <td>0.662739</td>\n",
       "      <td>0.453682</td>\n",
       "      <td>0.629947</td>\n",
       "    </tr>\n",
       "    <tr>\n",
       "      <th>656</th>\n",
       "      <td>656</td>\n",
       "      <td>656</td>\n",
       "      <td>ZLTQ</td>\n",
       "      <td>Zeltiq Aesthetics Inc</td>\n",
       "      <td>3845</td>\n",
       "      <td>13.0</td>\n",
       "      <td>16.0</td>\n",
       "      <td>14.0</td>\n",
       "      <td>15.500000</td>\n",
       "      <td>98.0</td>\n",
       "      <td>...</td>\n",
       "      <td>0.865985</td>\n",
       "      <td>0.440524</td>\n",
       "      <td>0.000000</td>\n",
       "      <td>0.314615</td>\n",
       "      <td>0.619883</td>\n",
       "      <td>0.557136</td>\n",
       "      <td>0.626932</td>\n",
       "      <td>0.506148</td>\n",
       "      <td>0.538799</td>\n",
       "      <td>0.601860</td>\n",
       "    </tr>\n",
       "    <tr>\n",
       "      <th>657</th>\n",
       "      <td>657</td>\n",
       "      <td>657</td>\n",
       "      <td>ZSTN</td>\n",
       "      <td>ZST Digital Networks, Inc.</td>\n",
       "      <td>3663</td>\n",
       "      <td>8.0</td>\n",
       "      <td>8.5</td>\n",
       "      <td>7.5</td>\n",
       "      <td>7.520000</td>\n",
       "      <td>112.0</td>\n",
       "      <td>...</td>\n",
       "      <td>0.755255</td>\n",
       "      <td>0.182916</td>\n",
       "      <td>0.000000</td>\n",
       "      <td>0.415130</td>\n",
       "      <td>0.453956</td>\n",
       "      <td>0.558770</td>\n",
       "      <td>0.379069</td>\n",
       "      <td>0.390411</td>\n",
       "      <td>0.533452</td>\n",
       "      <td>0.398712</td>\n",
       "    </tr>\n",
       "    <tr>\n",
       "      <th>658</th>\n",
       "      <td>658</td>\n",
       "      <td>658</td>\n",
       "      <td>ZUMZ</td>\n",
       "      <td>Zumiez Inc</td>\n",
       "      <td>5600</td>\n",
       "      <td>19.0</td>\n",
       "      <td>17.0</td>\n",
       "      <td>15.0</td>\n",
       "      <td>12.435000</td>\n",
       "      <td>78.0</td>\n",
       "      <td>...</td>\n",
       "      <td>0.762539</td>\n",
       "      <td>0.179460</td>\n",
       "      <td>0.984375</td>\n",
       "      <td>0.512588</td>\n",
       "      <td>0.650401</td>\n",
       "      <td>0.737456</td>\n",
       "      <td>0.231005</td>\n",
       "      <td>0.687671</td>\n",
       "      <td>0.210316</td>\n",
       "      <td>0.701527</td>\n",
       "    </tr>\n",
       "    <tr>\n",
       "      <th>659</th>\n",
       "      <td>659</td>\n",
       "      <td>659</td>\n",
       "      <td>ZZ</td>\n",
       "      <td>SEALY CORP</td>\n",
       "      <td>2510</td>\n",
       "      <td>16.0</td>\n",
       "      <td>16.0</td>\n",
       "      <td>14.0</td>\n",
       "      <td>8.340122</td>\n",
       "      <td>281.0</td>\n",
       "      <td>...</td>\n",
       "      <td>0.732776</td>\n",
       "      <td>0.846516</td>\n",
       "      <td>0.350000</td>\n",
       "      <td>0.838587</td>\n",
       "      <td>0.601104</td>\n",
       "      <td>0.623224</td>\n",
       "      <td>0.566752</td>\n",
       "      <td>0.799817</td>\n",
       "      <td>0.519169</td>\n",
       "      <td>0.667941</td>\n",
       "    </tr>\n",
       "  </tbody>\n",
       "</table>\n",
       "<p>660 rows × 93 columns</p>\n",
       "</div>"
      ],
      "text/plain": [
       "     Unnamed: 0  Unnamed: 0.1    I1                                  I2    I3  \\\n",
       "0             0             0  AATI  ADVANCED ANALOGIC TECHNOLOGIES INC  3674   \n",
       "1             1             1  ABPI     ACCENTIA BIOPHARMACEUTICALS INC  2834   \n",
       "2             2             2  ACAD          ACADIA PHARMACEUTICALS INC  2834   \n",
       "3             3             3  ACHN       ACHILLION PHARMACEUTICALS INC  2834   \n",
       "4             4             4  ACLI     AMERICAN COMMERCIAL LINES INC.   4492   \n",
       "..          ...           ...   ...                                 ...   ...   \n",
       "655         655           655   ZIP                          ZIPCAR INC  7514   \n",
       "656         656           656  ZLTQ              Zeltiq Aesthetics Inc   3845   \n",
       "657         657           657  ZSTN          ZST Digital Networks, Inc.  3663   \n",
       "658         658           658  ZUMZ                         Zumiez Inc   5600   \n",
       "659         659           659    ZZ                          SEALY CORP  2510   \n",
       "\n",
       "     P(IPO)  P(H)  P(L)    P(1Day)     C1  ...  C4_Imput_min_max  \\\n",
       "0      10.0   9.5   8.5  11.870000  122.0  ...          0.749962   \n",
       "1       8.0  10.0   8.0   7.250000  259.0  ...          0.583748   \n",
       "2       7.0  14.0  12.0   6.700000   90.0  ...          0.717213   \n",
       "3      11.5  16.0  14.0  12.390000  209.0  ...          0.714502   \n",
       "4      21.0  21.0  19.0  56.599998   80.0  ...          0.499347   \n",
       "..      ...   ...   ...        ...    ...  ...               ...   \n",
       "655    18.0  16.0  14.0  28.000000  317.0  ...          0.654351   \n",
       "656    13.0  16.0  14.0  15.500000   98.0  ...          0.865985   \n",
       "657     8.0   8.5   7.5   7.520000  112.0  ...          0.755255   \n",
       "658    19.0  17.0  15.0  12.435000   78.0  ...          0.762539   \n",
       "659    16.0  16.0  14.0   8.340122  281.0  ...          0.732776   \n",
       "\n",
       "     C5_log_Imput_p_outliner_fix_min_max  C6_log_Imput_p_outliner_fix_min_max  \\\n",
       "0                               0.570295                             0.583333   \n",
       "1                               0.063230                             0.000000   \n",
       "2                               0.340587                             0.000000   \n",
       "3                               0.306943                             0.000000   \n",
       "4                               0.495493                             0.262500   \n",
       "..                                   ...                                  ...   \n",
       "655                             0.542871                             0.403846   \n",
       "656                             0.440524                             0.000000   \n",
       "657                             0.182916                             0.000000   \n",
       "658                             0.179460                             0.984375   \n",
       "659                             0.846516                             0.350000   \n",
       "\n",
       "     C7_log_Imput_outliner_fix_min_max  \\\n",
       "0                             0.405237   \n",
       "1                             0.317003   \n",
       "2                             0.154585   \n",
       "3                             0.173269   \n",
       "4                             0.729625   \n",
       "..                                 ...   \n",
       "655                           0.571608   \n",
       "656                           0.314615   \n",
       "657                           0.415130   \n",
       "658                           0.512588   \n",
       "659                           0.838587   \n",
       "\n",
       "     T3_Imput_ratio_skew_outliner_fix_min_max  \\\n",
       "0                                    0.645300   \n",
       "1                                    0.546400   \n",
       "2                                    0.649815   \n",
       "3                                    0.722131   \n",
       "4                                    0.442262   \n",
       "..                                        ...   \n",
       "655                                  0.757798   \n",
       "656                                  0.619883   \n",
       "657                                  0.453956   \n",
       "658                                  0.650401   \n",
       "659                                  0.601104   \n",
       "\n",
       "     T4_Imput_ratio_skew_outliner_fix_min_max  \\\n",
       "0                                    0.538267   \n",
       "1                                    0.550357   \n",
       "2                                    0.528197   \n",
       "3                                    0.262080   \n",
       "4                                    0.391683   \n",
       "..                                        ...   \n",
       "655                                  0.461148   \n",
       "656                                  0.557136   \n",
       "657                                  0.558770   \n",
       "658                                  0.737456   \n",
       "659                                  0.623224   \n",
       "\n",
       "     T5_Imput_ratio_skew_outliner_fix_min_max  \\\n",
       "0                                    0.558627   \n",
       "1                                    0.478716   \n",
       "2                                    0.756553   \n",
       "3                                    0.753169   \n",
       "4                                    0.396120   \n",
       "..                                        ...   \n",
       "655                                  0.456017   \n",
       "656                                  0.626932   \n",
       "657                                  0.379069   \n",
       "658                                  0.231005   \n",
       "659                                  0.566752   \n",
       "\n",
       "     S1_Imput_ratio_skew_outliner_fix_min_max  \\\n",
       "0                                    0.482158   \n",
       "1                                    0.241128   \n",
       "2                                    0.637358   \n",
       "3                                    0.920559   \n",
       "4                                    0.435805   \n",
       "..                                        ...   \n",
       "655                                  0.662739   \n",
       "656                                  0.506148   \n",
       "657                                  0.390411   \n",
       "658                                  0.687671   \n",
       "659                                  0.799817   \n",
       "\n",
       "     S2_Imput_ratio_skew_outliner_fix_min_max  \\\n",
       "0                                    0.543764   \n",
       "1                                    0.657184   \n",
       "2                                    0.308399   \n",
       "3                                    0.389123   \n",
       "4                                    0.597081   \n",
       "..                                        ...   \n",
       "655                                  0.453682   \n",
       "656                                  0.538799   \n",
       "657                                  0.533452   \n",
       "658                                  0.210316   \n",
       "659                                  0.519169   \n",
       "\n",
       "     S3_Imput_ratio_skew_outliner_fix_min_max  \n",
       "0                                    0.484041  \n",
       "1                                    0.479777  \n",
       "2                                    0.521087  \n",
       "3                                    0.653527  \n",
       "4                                    0.510226  \n",
       "..                                        ...  \n",
       "655                                  0.629947  \n",
       "656                                  0.601860  \n",
       "657                                  0.398712  \n",
       "658                                  0.701527  \n",
       "659                                  0.667941  \n",
       "\n",
       "[660 rows x 93 columns]"
      ]
     },
     "execution_count": 3,
     "metadata": {},
     "output_type": "execute_result"
    }
   ],
   "source": [
    "data"
   ]
  },
  {
   "cell_type": "code",
   "execution_count": 4,
   "metadata": {},
   "outputs": [],
   "source": [
    "usecols = ['I3_Imput' , 'Y1','Y2',\n",
    "       'div_manufacturing',\n",
    "           'div_other', \n",
    "           'div_services',\n",
    "         \n",
    "      'T4_Imput_ratio', 'T3_Imput_ratio', 'T5_Imput_ratio',\n",
    "       'S1_Imput_ratio', 'S2_Imput_ratio', 'S3_Imput_ratio', \n",
    "       \n",
    "       'C3_cube_root', 'C7_log', 'C5_log', 'C6_log', 'C1_Imput', 'C2_Imput',\n",
    "       'C3_cube_root_Imput', 'C4_Imput', 'C5_log_Imput', 'C6_log_Imput',\n",
    "       'C7_log_Imput', 'C3_cube_root_Imput_p', 'C5_log_Imput_p',\n",
    "       'C6_log_Imput_p', 'C1_Imput_outliner_fix',\n",
    "       'C5_log_Imput_p_outliner_fix', 'C6_log_Imput_p_outliner_fix',\n",
    "       'C7_log_Imput_outliner_fix', 'T3_Imput_ratio_outliner_fix',\n",
    "       'T4_Imput_ratio_outliner_fix', 'T5_Imput_ratio_outliner_fix',\n",
    "       'S1_Imput_ratio_outliner_fix', 'S2_Imput_ratio_outliner_fix',\n",
    "       'S3_Imput_ratio_outliner_fix', 'C1_Imput_outliner_fix_min_max',\n",
    "       'C3_cube_root_Imput_min_max', 'C4_Imput_min_max',\n",
    "       'C5_log_Imput_p_outliner_fix_min_max',\n",
    "       'C6_log_Imput_p_outliner_fix_min_max',\n",
    "       'C7_log_Imput_outliner_fix_min_max',\n",
    "       'T3_Imput_ratio_outliner_fix_min_max',\n",
    "       'T4_Imput_ratio_outliner_fix_min_max',\n",
    "       'T5_Imput_ratio_outliner_fix_min_max',\n",
    "       'S1_Imput_ratio_outliner_fix_min_max',\n",
    "       'S2_Imput_ratio_outliner_fix_min_max',\n",
    "       'S3_Imput_ratio_outliner_fix_min_max']"
   ]
  },
  {
   "cell_type": "code",
   "execution_count": 5,
   "metadata": {},
   "outputs": [
    {
     "data": {
      "text/plain": [
       "Index(['Unnamed: 0', 'Unnamed: 0.1', 'I1', 'I2', 'I3', 'P(IPO)', 'P(H)',\n",
       "       'P(L)', 'P(1Day)', 'C1', 'C2', 'C3', 'C4', 'C5', 'C6', 'C7', 'T1', 'T2',\n",
       "       'T3', 'T4', 'T5', 'S1', 'S2', 'S3', 'I3_Imput', 'division',\n",
       "       'div_manufacturing', 'div_other', 'div_services', 'T1_Imput',\n",
       "       'T2_Imput', 'T3_Imput', 'T4_Imput', 'T5_Imput', 'S1_Imput', 'S2_Imput',\n",
       "       'S3_Imput', 'T4_Imput_ratio', 'T3_Imput_ratio', 'T5_Imput_ratio',\n",
       "       'S1_Imput_ratio', 'S2_Imput_ratio', 'S3_Imput_ratio', 'P(1Day)_Imput',\n",
       "       'P(H)_Imput', 'P(L)_Imput', 'P(IPO)_Imput', 'P(mid)', 'Y1', 'Y2',\n",
       "       'T4_Imput_ratio_skew', 'T3_Imput_ratio_skew', 'T5_Imput_ratio_skew',\n",
       "       'S1_Imput_ratio_skew', 'S2_Imput_ratio_skew', 'S3_Imput_ratio_skew',\n",
       "       'C5_skew', 'C3_skew', 'C3_cube_root', 'C7_log', 'C6_log', 'C1_Imput',\n",
       "       'C2_Imput', 'C3_cube_root_Imput', 'C4_Imput', 'C5_log_Imput',\n",
       "       'C6_log_Imput', 'C7_log_Imput', 'C3_cube_root_Imput_p',\n",
       "       'C5_log_Imput_p', 'C6_log_Imput_p', 'C1_Imput_outliner_fix',\n",
       "       'C5_log_Imput_p_outliner_fix', 'C6_log_Imput_p_outliner_fix',\n",
       "       'C7_log_Imput_outliner_fix', 'T3_Imput_ratio_skew_outliner_fix',\n",
       "       'T4_Imput_ratio_skew_outliner_fix', 'T5_Imput_ratio_skew_outliner_fix',\n",
       "       'S1_Imput_ratio_skew_outliner_fix', 'S2_Imput_ratio_skew_outliner_fix',\n",
       "       'S3_Imput_ratio_skew_outliner_fix', 'C1_Imput_outliner_fix_min_max',\n",
       "       'C3_cube_root_Imput_p_min_max', 'C4_Imput_min_max',\n",
       "       'C5_log_Imput_p_outliner_fix_min_max',\n",
       "       'C6_log_Imput_p_outliner_fix_min_max',\n",
       "       'C7_log_Imput_outliner_fix_min_max',\n",
       "       'T3_Imput_ratio_skew_outliner_fix_min_max',\n",
       "       'T4_Imput_ratio_skew_outliner_fix_min_max',\n",
       "       'T5_Imput_ratio_skew_outliner_fix_min_max',\n",
       "       'S1_Imput_ratio_skew_outliner_fix_min_max',\n",
       "       'S2_Imput_ratio_skew_outliner_fix_min_max',\n",
       "       'S3_Imput_ratio_skew_outliner_fix_min_max'],\n",
       "      dtype='object')"
      ]
     },
     "execution_count": 5,
     "metadata": {},
     "output_type": "execute_result"
    }
   ],
   "source": [
    "data.columns"
   ]
  },
  {
   "cell_type": "code",
   "execution_count": 6,
   "metadata": {},
   "outputs": [
    {
     "data": {
      "text/plain": [
       "16"
      ]
     },
     "execution_count": 6,
     "metadata": {},
     "output_type": "execute_result"
    }
   ],
   "source": [
    "import pandas as pd\n",
    "df = pd.read_csv('data_skew_imputed_outliers_fixed_min_max2.csv' , usecols = [ 'C3_cube_root_Imput_p_min_max', 'Y1','Y2', \n",
    "                                                               'C1_Imput_outliner_fix_min_max',\n",
    "                                                                'C2_Imput',\n",
    "                                                                'C4_Imput_min_max',\n",
    "                                                                'C5_log_Imput_p_outliner_fix_min_max',\n",
    "                                                                'C6_log_Imput_p_outliner_fix_min_max',\n",
    "                                                                'C7_log_Imput_outliner_fix_min_max',\n",
    "                                                                'div_manufacturing','div_other','div_services',\n",
    "                                                                'T3_Imput_ratio_skew_outliner_fix_min_max',\n",
    "                                                                'T4_Imput_ratio_skew_outliner_fix_min_max',\n",
    "                                                                'T5_Imput_ratio_skew_outliner_fix_min_max',\n",
    "                                                                'S1_Imput_ratio_skew_outliner_fix_min_max',\n",
    "                                                                'S2_Imput_ratio_skew_outliner_fix_min_max',\n",
    "                                                                'S3_Imput_ratio_skew_outliner_fix_min_max'])\n",
    "x = df\n",
    "#df = pd.DataFrame(x.data, columns = x.feature_names)\n",
    "#df[\"MEDV\"] = x.target\n",
    "X = df.drop([\"Y1\" ,\"Y2\"  ],1)   #Feature Matrix\n",
    "y = df[\"Y2\"].values          #Target Variable\n",
    "len(X.columns)"
   ]
  },
  {
   "cell_type": "code",
   "execution_count": 45,
   "metadata": {},
   "outputs": [
    {
     "name": "stderr",
     "output_type": "stream",
     "text": [
      "spFtSel-INFO: Algorithm run mode: regular\n",
      "spFtSel-INFO: Wrapper: DecisionTreeClassifier(ccp_alpha=0.0, class_weight=None, criterion='gini',\n",
      "                       max_depth=None, max_features=None, max_leaf_nodes=None,\n",
      "                       min_impurity_decrease=0.0, min_impurity_split=None,\n",
      "                       min_samples_leaf=1, min_samples_split=2,\n",
      "                       min_weight_fraction_leaf=0.0, presort='deprecated',\n",
      "                       random_state=None, splitter='best')\n",
      "spFtSel-INFO: Scoring metric: f1_weighted\n",
      "spFtSel-INFO: Number of features: 16\n",
      "spFtSel-INFO: Number of observations: 660\n",
      "spFtSel-INFO: iter: 0, value: 0.598, std: 0.026, num. features: 4, best value: 0.598\n",
      "spFtSel-INFO: iter: 5, value: 0.63, std: 0.029, num. features: 7, best value: 0.63\n",
      "spFtSel-INFO: iter: 10, value: 0.61, std: 0.04, num. features: 6, best value: 0.63\n",
      "spFtSel-INFO: iter: 15, value: 0.622, std: 0.03, num. features: 7, best value: 0.636\n",
      "spFtSel-INFO: iter: 20, value: 0.618, std: 0.037, num. features: 9, best value: 0.636\n",
      "spFtSel-INFO: iter: 25, value: 0.621, std: 0.026, num. features: 8, best value: 0.636\n",
      "spFtSel-INFO: iter: 30, value: 0.599, std: 0.029, num. features: 9, best value: 0.636\n",
      "spFtSel-INFO: iter: 35, value: 0.638, std: 0.027, num. features: 7, best value: 0.638\n",
      "spFtSel-INFO: iter: 40, value: 0.639, std: 0.027, num. features: 7, best value: 0.651\n",
      "spFtSel-INFO: iter: 45, value: 0.61, std: 0.034, num. features: 7, best value: 0.651\n",
      "spFtSel-INFO: iter: 50, value: 0.609, std: 0.027, num. features: 8, best value: 0.651\n",
      "spFtSel-INFO: iter: 55, value: 0.628, std: 0.045, num. features: 8, best value: 0.651\n",
      "spFtSel-INFO: iter: 60, value: 0.614, std: 0.028, num. features: 4, best value: 0.651\n",
      "spFtSel-INFO: spFtSel run completed.\n"
     ]
    },
    {
     "name": "stdout",
     "output_type": "stream",
     "text": [
      "Available keys:\n",
      " dict_keys(['_wrapper', '_scoring', 'selected_data', 'iter_results', 'features', 'importance', 'num_features', 'total_iter_overall', 'total_iter_for_opt', 'best_value', 'best_std'])\n",
      "Best value: 0.651\n",
      "Indices of selected features:  [ 5  6  8  1  3 14  7]\n",
      "Importance of selected features:  [0.583 0.579 0.567 0.564 0.545 0.542 0.505]\n",
      "Total iterations for the optimal feature set: 36\n"
     ]
    },
    {
     "data": {
      "text/plain": [
       "array(['C3_cube_root_Imput_p_min_max', 'C4_Imput_min_max',\n",
       "       'C6_log_Imput_p_outliner_fix_min_max', 'div_other', 'C2_Imput',\n",
       "       'S2_Imput_ratio_skew_outliner_fix_min_max',\n",
       "       'C5_log_Imput_p_outliner_fix_min_max'], dtype=object)"
      ]
     },
     "execution_count": 45,
     "metadata": {},
     "output_type": "execute_result"
    }
   ],
   "source": [
    "#https://github.com/vaksakalli/spsaml_py\n",
    "#https://www.featureranking.com/tutorials/machine-learning-tutorials/sk-part-2-feature-selection-and-ranking/\n",
    "\n",
    "from sklearn.tree import DecisionTreeClassifier, DecisionTreeRegressor\n",
    "from SpFtSel import SpFtSel\n",
    "# make sure the results are repeatable\n",
    "np.random.seed(999)\n",
    "\n",
    "\n",
    "x =X.values\n",
    "#y = df.data, df.target\n",
    "\n",
    "# specify a wrapper to use\n",
    "wrapper = DecisionTreeClassifier()\n",
    "\n",
    "# specify a metric to maximize\n",
    "# (by default, sklearn metrics are defined as \"higher is better\")\n",
    "# you need to make sure your scoring metric is consistent with your problem type,\n",
    "# based on whether it is a binary or multi-class classification problem\n",
    "# example: accuracy, f1, roc_auc, etc.\n",
    "# more info on the scoring metrics can be found here:\n",
    "# https://scikit-learn.org/stable/modules/model_evaluation.html\n",
    "scoring = 'f1_weighted'\n",
    "\n",
    "# set the engine parameters\n",
    "sp_engine = SpFtSel(x, y, wrapper, scoring)\n",
    "\n",
    "# run the engine\n",
    "# available engine parameters:\n",
    "# 1. num_features: how many features to select\n",
    "#    (in addition to features to keep, if any)\n",
    "#    default value is 0 and it results in automatic feature selection\n",
    "# 2. run_mode: 'regular' (default) or 'extended'\n",
    "# 3. stratified_cv: whether CV should be stratified or not (default is True)\n",
    "#    stratified_cv must be set to False for regression problems\n",
    "# 4. n_jobs: number of cores to be used in cross-validation (default is 1)\n",
    "# 5. print_freq: print frequency for the output (default is 5)\n",
    "# 6. features_to_keep_indices: indices of features to keep: default is None\n",
    "sp_run = sp_engine.run(num_features=0)# ,stratified_cv = False)\n",
    "\n",
    "# get the results of the run\n",
    "sp_results = sp_run.results\n",
    "\n",
    "# list of available keys in the engine output\n",
    "print('Available keys:\\n', sp_results.keys())\n",
    "\n",
    "# performance value of the best feature set\n",
    "print('Best value:', sp_results.get('best_value'))\n",
    "\n",
    "# indices of selected features\n",
    "print('Indices of selected features: ', sp_results.get('features'))\n",
    "\n",
    "# importance of selected features\n",
    "print('Importance of selected features: ', sp_results.get('importance').round(3))\n",
    "\n",
    "# number of iterations for the optimal set\n",
    "print('Total iterations for the optimal feature set:', sp_results.get('total_iter_for_opt'))\n",
    "fs_indices_spsa = sp_results.get('features')\n",
    "\n",
    "best_features_spsa = X.columns[fs_indices_spsa].values\n",
    "best_features_spsa"
   ]
  },
  {
   "cell_type": "markdown",
   "metadata": {},
   "source": [
    "##### X.isna().sum()"
   ]
  },
  {
   "cell_type": "code",
   "execution_count": 5,
   "metadata": {},
   "outputs": [
    {
     "data": {
      "image/png": "[encoded data removed]",
      "text/plain": [
       "<Figure size 2160x1440 with 2 Axes>"
      ]
     },
     "metadata": {
      "needs_background": "light"
     },
     "output_type": "display_data"
    }
   ],
   "source": [
    "\n",
    "#Using Pearson Correlation\n",
    "plt.figure(figsize=(30,20))\n",
    "cor = df.corr().round(3)\n",
    "sns.heatmap(cor, annot=True, cmap=plt.cm.Reds)\n",
    "plt.show()"
   ]
  },
  {
   "cell_type": "code",
   "execution_count": 6,
   "metadata": {
    "collapsed": false
   },
   "outputs": [
    {
     "data": {
      "text/plain": [
       "Y2    1.0\n",
       "Name: Y2, dtype: float64"
      ]
     },
     "execution_count": 6,
     "metadata": {},
     "output_type": "execute_result"
    }
   ],
   "source": [
    "cor_target = abs(cor[\"Y2\"])\n",
    "#Selecting highly correlated features\n",
    "relevant_features = cor_target[cor_target>0.5]\n",
    "relevant_features"
   ]
  },
  {
   "cell_type": "code",
   "execution_count": 7,
   "metadata": {},
   "outputs": [
    {
     "name": "stderr",
     "output_type": "stream",
     "text": [
      "/opt/tljh/user/lib/python3.6/site-packages/numpy/core/fromnumeric.py:2495: FutureWarning: Method .ptp is deprecated and will be removed in a future version. Use numpy.ptp instead.\n",
      "  return ptp(axis=axis, out=out, **kwargs)\n"
     ]
    },
    {
     "data": {
      "text/plain": [
       "const                                  1.237206e-04\n",
       "div_manufacturing                      5.596419e-05\n",
       "div_other                              3.260020e-01\n",
       "div_services                           6.981278e-06\n",
       "C2_Imput                               1.730258e-01\n",
       "C1_Imput_outliner_fix_min_max          9.575168e-01\n",
       "C3_cube_root_Imput_p_min_max           7.714943e-01\n",
       "C4_Imput_min_max                       5.547963e-02\n",
       "C5_log_Imput_p_outliner_fix_min_max    9.179456e-01\n",
       "C6_log_Imput_p_outliner_fix_min_max    6.359226e-08\n",
       "C7_log_Imput_outliner_fix_min_max      5.508592e-01\n",
       "T3_Imput_ratio_outliner_fix_min_max    2.477263e-01\n",
       "T4_Imput_ratio_outliner_fix_min_max    6.934741e-01\n",
       "T5_Imput_ratio_outliner_fix_min_max    6.510155e-01\n",
       "S1_Imput_ratio_outliner_fix_min_max    2.731042e-01\n",
       "S2_Imput_ratio_outliner_fix_min_max    8.786516e-02\n",
       "S3_Imput_ratio_outliner_fix_min_max    7.253012e-02\n",
       "dtype: float64"
      ]
     },
     "execution_count": 7,
     "metadata": {},
     "output_type": "execute_result"
    }
   ],
   "source": [
    "#Adding constant column of ones, mandatory for sm.OLS model\n",
    "X_1 = sm.add_constant(X)\n",
    "#Fitting sm.OLS model\n",
    "model = sm.OLS(y,X_1).fit()\n",
    "model.pvalues"
   ]
  },
  {
   "cell_type": "code",
   "execution_count": 8,
   "metadata": {},
   "outputs": [
    {
     "name": "stdout",
     "output_type": "stream",
     "text": [
      "['div_manufacturing', 'div_services', 'C6_log_Imput_p_outliner_fix_min_max', 'S2_Imput_ratio_outliner_fix_min_max']\n"
     ]
    }
   ],
   "source": [
    "#Backward Elimination\n",
    "cols = list(X.columns)\n",
    "pmax = 1\n",
    "while (len(cols)>0):\n",
    "    p= []\n",
    "    X_1 = X[cols]\n",
    "    X_1 = sm.add_constant(X_1)\n",
    "    model = sm.OLS(y,X_1).fit()\n",
    "    p = pd.Series(model.pvalues.values[1:],index = cols)      \n",
    "    pmax = max(p)\n",
    "    feature_with_p_max = p.idxmax()\n",
    "    if(pmax>0.05):\n",
    "        cols.remove(feature_with_p_max)\n",
    "    else:\n",
    "        break\n",
    "selected_features_BE = cols\n",
    "print(selected_features_BE)"
   ]
  },
  {
   "cell_type": "code",
   "execution_count": 179,
   "metadata": {},
   "outputs": [
    {
     "data": {
      "text/plain": [
       "'C2_Imput'"
      ]
     },
     "execution_count": 179,
     "metadata": {},
     "output_type": "execute_result"
    }
   ],
   "source": [
    "feature_with_p_max"
   ]
  },
  {
   "cell_type": "code",
   "execution_count": 49,
   "metadata": {},
   "outputs": [
    {
     "name": "stdout",
     "output_type": "stream",
     "text": [
      "Optimum number of features: 7\n",
      "Score with 7 features: 0.750000\n"
     ]
    }
   ],
   "source": [
    "#no of features\n",
    "nof_list=np.arange(1,16)            \n",
    "high_score=0\n",
    "#Variable to store the optimum features\n",
    "nof=0           \n",
    "score_list =[]\n",
    "for n in range(len(nof_list)):\n",
    "    X_train, X_test, y_train, y_test = train_test_split(X,y, test_size = 0.2, random_state = 123)\n",
    "    model = LogisticRegression()\n",
    "    rfe = RFE(model,nof_list[n])\n",
    "    X_train_rfe = rfe.fit_transform(X_train,y_train)\n",
    "    X_test_rfe = rfe.transform(X_test)\n",
    "    model.fit(X_train_rfe,y_train)\n",
    "    score = model.score(X_test_rfe,y_test)\n",
    "    score_list.append(score)\n",
    "    if(score>high_score):\n",
    "        high_score = score\n",
    "        nof = nof_list[n]\n",
    "print(\"Optimum number of features: %d\" %nof)\n",
    "print(\"Score with %d features: %f\" % (nof, high_score))\n"
   ]
  },
  {
   "cell_type": "code",
   "execution_count": 52,
   "metadata": {},
   "outputs": [
    {
     "data": {
      "text/plain": [
       "array([0.        , 1.        , 0.        , 0.        , 0.51807229,\n",
       "       0.71078429, 0.62750476, 0.        , 0.435889  , 0.03083242,\n",
       "       0.77476517, 0.37282197, 0.55800624, 0.37393156, 0.52847657])"
      ]
     },
     "execution_count": 52,
     "metadata": {},
     "output_type": "execute_result"
    }
   ],
   "source": []
  },
  {
   "cell_type": "code",
   "execution_count": 44,
   "metadata": {},
   "outputs": [
    {
     "data": {
      "text/plain": [
       "0.6633608815426997"
      ]
     },
     "execution_count": 44,
     "metadata": {},
     "output_type": "execute_result"
    }
   ],
   "source": [
    "precision_recall_fscore_support(y2_test, y2_pred, average='weighted')[2]"
   ]
  },
  {
   "cell_type": "code",
   "execution_count": 15,
   "metadata": {},
   "outputs": [
    {
     "data": {
      "text/plain": [
       "660"
      ]
     },
     "execution_count": 15,
     "metadata": {},
     "output_type": "execute_result"
    }
   ],
   "source": [
    "len(df)"
   ]
  },
  {
   "cell_type": "code",
   "execution_count": 19,
   "metadata": {},
   "outputs": [
    {
     "name": "stdout",
     "output_type": "stream",
     "text": [
      "1\n",
      "Model with the best 1 features\n",
      "[False False False False False False False False  True False False False\n",
      " False False False False]\n",
      "[12  4 11  8 16 15  3 14  1  9  7 13 10  5  2  6]\n",
      "2\n",
      "Model with the best 2 features\n",
      "[False False False False False False False False  True False False False\n",
      " False False  True False]\n",
      "[11  3 10  7 15 14  2 13  1  8  6 12  9  4  1  5]\n",
      "3\n",
      "Model with the best 3 features\n",
      "[False False False False False False  True False  True False False False\n",
      " False False  True False]\n",
      "[10  2  9  6 14 13  1 12  1  7  5 11  8  3  1  4]\n",
      "4\n",
      "Model with the best 4 features\n",
      "[False  True False False False False  True False  True False False False\n",
      " False False  True False]\n",
      "[ 9  1  8  5 13 12  1 11  1  6  4 10  7  2  1  3]\n",
      "5\n",
      "Model with the best 5 features\n",
      "[False  True False False False False  True False  True False False False\n",
      " False  True  True False]\n",
      "[ 8  1  7  4 12 11  1 10  1  5  3  9  6  1  1  2]\n",
      "6\n",
      "Model with the best 6 features\n",
      "[False  True False False False False  True False  True False False False\n",
      " False  True  True  True]\n",
      "[ 7  1  6  3 11 10  1  9  1  4  2  8  5  1  1  1]\n",
      "7\n",
      "Model with the best 7 features\n",
      "[False  True False False False False  True False  True False  True False\n",
      " False  True  True  True]\n",
      "[ 6  1  5  2 10  9  1  8  1  3  1  7  4  1  1  1]\n",
      "8\n",
      "Model with the best 8 features\n",
      "[False  True False  True False False  True False  True False  True False\n",
      " False  True  True  True]\n",
      "[5 1 4 1 9 8 1 7 1 2 1 6 3 1 1 1]\n",
      "9\n",
      "Model with the best 9 features\n",
      "[False  True False  True False False  True False  True  True  True False\n",
      " False  True  True  True]\n",
      "[4 1 3 1 8 7 1 6 1 1 1 5 2 1 1 1]\n",
      "10\n",
      "Model with the best 10 features\n",
      "[False  True False  True False False  True False  True  True  True False\n",
      "  True  True  True  True]\n",
      "[3 1 2 1 7 6 1 5 1 1 1 4 1 1 1 1]\n",
      "11\n",
      "Model with the best 11 features\n",
      "[False  True  True  True False False  True False  True  True  True False\n",
      "  True  True  True  True]\n",
      "[2 1 1 1 6 5 1 4 1 1 1 3 1 1 1 1]\n",
      "12\n",
      "Model with the best 12 features\n",
      "[ True  True  True  True False False  True False  True  True  True False\n",
      "  True  True  True  True]\n",
      "[1 1 1 1 5 4 1 3 1 1 1 2 1 1 1 1]\n",
      "13\n",
      "Model with the best 13 features\n",
      "[ True  True  True  True False False  True False  True  True  True  True\n",
      "  True  True  True  True]\n",
      "[1 1 1 1 4 3 1 2 1 1 1 1 1 1 1 1]\n",
      "14\n",
      "Model with the best 14 features\n",
      "[ True  True  True  True False False  True  True  True  True  True  True\n",
      "  True  True  True  True]\n",
      "[1 1 1 1 3 2 1 1 1 1 1 1 1 1 1 1]\n",
      "15\n",
      "Model with the best 15 features\n",
      "[ True  True  True  True False  True  True  True  True  True  True  True\n",
      "  True  True  True  True]\n",
      "[1 1 1 1 2 1 1 1 1 1 1 1 1 1 1 1]\n"
     ]
    }
   ],
   "source": [
    "for i in range(1, len(X.columns)):\n",
    "    print(i)\n",
    "    # create a base classifier used to evaluate a subset of attributes\n",
    "    model = LogisticRegression()\n",
    "    # create the RFE model and select 3 attributes\n",
    "    rfe = RFE(model, i)\n",
    "    rfe = rfe.fit(X,y)\n",
    "    # summarize the selection of the attributes\n",
    "    print('Model with the best', i, 'features')\n",
    "    print(rfe.support_)\n",
    "    print(rfe.ranking_)"
   ]
  },
  {
   "cell_type": "code",
   "execution_count": 188,
   "metadata": {},
   "outputs": [
    {
     "name": "stdout",
     "output_type": "stream",
     "text": [
      "Index(['div_other', 'C4_Imput_min_max', 'C6_log_Imput_p_outliner_fix_min_max',\n",
      "       'S2_Imput_ratio_outliner_fix_min_max'],\n",
      "      dtype='object')\n"
     ]
    }
   ],
   "source": [
    "cols = list(X.columns)\n",
    "model = LogisticRegression()\n",
    "#Initializing RFE model\n",
    "rfe = RFE(model,4)             \n",
    "#Transforming data using RFE\n",
    "X_rfe = rfe.fit_transform(X,y)  \n",
    "#Fitting the data to model\n",
    "model.fit(X_rfe,y)              \n",
    "temp = pd.Series(rfe.support_,index = cols)\n",
    "selected_features_rfe = temp[temp==True].index\n",
    "print(selected_features_rfe)"
   ]
  },
  {
   "cell_type": "code",
   "execution_count": 8,
   "metadata": {
    "collapsed": true
   },
   "outputs": [],
   "source": [
    "y1 = data.Y1\n",
    "y2 = data.Y2"
   ]
  },
  {
   "cell_type": "code",
   "execution_count": 190,
   "metadata": {},
   "outputs": [],
   "source": [
    "\n",
    "\n",
    "cols_y2 =  [ 'Y1','Y2', 'C6_log_Imput_p_outliner_fix_min_max',   \n",
    "           \n",
    "                                                            \n",
    "                                                                'C4_Imput_min_max',\n",
    "                                                       \n",
    "                                                               \n",
    "                                                              \n",
    "            'div_other' ,\n",
    "     \n",
    "                                                                'T3_Imput_ratio_outliner_fix_min_max',\n",
    "                                                              \n",
    "                                                          \n",
    "                                                                \n",
    "                                                                'S2_Imput_ratio_outliner_fix_min_max',\n",
    "                                                                'S3_Imput_ratio_outliner_fix_min_max' ]\n",
    "                                                            "
   ]
  },
  {
   "cell_type": "code",
   "execution_count": 191,
   "metadata": {},
   "outputs": [],
   "source": [
    "\n",
    "cols_y2_1 =  [ 'Y1','Y2', 'C6_log_Imput_p_outliner_fix_min_max',   \n",
    "           \n",
    "                                                            \n",
    "                                                         \n",
    "                                                       \n",
    "                                                               \n",
    "                                                              \n",
    "            'div_other' ,\n",
    "     \n",
    "                                                                'T3_Imput_ratio_outliner_fix_min_max',\n",
    "                                                              \n",
    "                                                          \n",
    "                                                               \n",
    "                                                                'S2_Imput_ratio_outliner_fix_min_max',\n",
    "                                                                'S3_Imput_ratio_outliner_fix_min_max' ]\n",
    "                                                            "
   ]
  },
  {
   "cell_type": "code",
   "execution_count": 23,
   "metadata": {},
   "outputs": [],
   "source": [
    "selected_features_rfe_2 =['div_other',  'C6_log_Imput_p_outliner_fix_min_max',\n",
    "       'T3_Imput_ratio_outliner_fix_min_max',\n",
    "       \n",
    "       'S2_Imput_ratio_outliner_fix_min_max',\n",
    "       'S3_Imput_ratio_outliner_fix_min_max']"
   ]
  },
  {
   "cell_type": "code",
   "execution_count": 24,
   "metadata": {},
   "outputs": [],
   "source": [
    "selected_features_rfe_1 = ['div_other',  'C6_log_Imput_p_outliner_fix_min_max',\n",
    "       'T3_Imput_ratio_outliner_fix_min_max',\n",
    "       'S3_Imput_ratio_outliner_fix_min_max',\n",
    "       'S2_Imput_ratio_outliner_fix_min_max',\n",
    "       ]"
   ]
  },
  {
   "cell_type": "code",
   "execution_count": 25,
   "metadata": {},
   "outputs": [],
   "source": [
    "selected_features_rfe_3 = [  'C6_log_Imput_p_outliner_fix_min_max','T5_Imput_ratio_outliner_fix_min_max','T4_Imput_ratio_outliner_fix_min_max',\n",
    "      \n",
    "       'S3_Imput_ratio_outliner_fix_min_max',\n",
    "       'S2_Imput_ratio_outliner_fix_min_max','div_manufacturing',\n",
    "       ]"
   ]
  },
  {
   "cell_type": "code",
   "execution_count": null,
   "metadata": {},
   "outputs": [],
   "source": [
    "'C3_cube_root_Imput_p_min_max', 'Y1','Y2', \n",
    "                                                               'C1_Imput_outliner_fix_min_max',\n",
    "                                                                'C2_Imput',\n",
    "                                                                'C4_Imput_min_max',\n",
    "                                                                'C5_log_Imput_p_outliner_fix_min_max',\n",
    "                                                                'C6_log_Imput_p_outliner_fix_min_max',\n",
    "                                                                'C7_log_Imput_outliner_fix_min_max',\n",
    "                                                                'div_manufacturing','div_other','div_services',"
   ]
  },
  {
   "cell_type": "code",
   "execution_count": 360,
   "metadata": {},
   "outputs": [],
   "source": [
    "selected_features_rfe_5 = ['C6_log_Imput_p_outliner_fix_min_max',\n",
    "       'S3_Imput_ratio_outliner_fix_min_max',\n",
    "       'T3_Imput_ratio_outliner_fix_min_max', 'div_manufacturing',\n",
    "       'C5_log_Imput_p_outliner_fix_min_max', 'C4_Imput_min_max',\n",
    "       'C2_Imput']\n",
    "\n",
    "\n",
    "t = [\n",
    "     \n",
    "     'S3_Imput_ratio_skew_outliner_fix_min_max',\n",
    "   'T4_Imput_ratio_skew_outliner_fix_min_max',\n",
    "   \n",
    "       'C6_log_Imput_p_outliner_fix_min_max', \n",
    "     'C2_Imput',\n",
    "       'S2_Imput_ratio_skew_outliner_fix_min_max', \n",
    "       'C5_log_Imput_p_outliner_fix_min_max']"
   ]
  },
  {
   "cell_type": "code",
   "execution_count": 361,
   "metadata": {
    "collapsed": false
   },
   "outputs": [
    {
     "data": {
      "text/html": [
       "<div>\n",
       "<style scoped>\n",
       "    .dataframe tbody tr th:only-of-type {\n",
       "        vertical-align: middle;\n",
       "    }\n",
       "\n",
       "    .dataframe tbody tr th {\n",
       "        vertical-align: top;\n",
       "    }\n",
       "\n",
       "    .dataframe thead th {\n",
       "        text-align: right;\n",
       "    }\n",
       "</style>\n",
       "<table border=\"1\" class=\"dataframe\">\n",
       "  <thead>\n",
       "    <tr style=\"text-align: right;\">\n",
       "      <th></th>\n",
       "      <th>S3_Imput_ratio_skew_outliner_fix_min_max</th>\n",
       "      <th>T4_Imput_ratio_skew_outliner_fix_min_max</th>\n",
       "      <th>C6_log_Imput_p_outliner_fix_min_max</th>\n",
       "      <th>C2_Imput</th>\n",
       "      <th>S2_Imput_ratio_skew_outliner_fix_min_max</th>\n",
       "      <th>C5_log_Imput_p_outliner_fix_min_max</th>\n",
       "    </tr>\n",
       "  </thead>\n",
       "  <tbody>\n",
       "    <tr>\n",
       "      <th>0</th>\n",
       "      <td>0.484041</td>\n",
       "      <td>0.538267</td>\n",
       "      <td>0.583333</td>\n",
       "      <td>1.0</td>\n",
       "      <td>0.543764</td>\n",
       "      <td>0.570295</td>\n",
       "    </tr>\n",
       "    <tr>\n",
       "      <th>1</th>\n",
       "      <td>0.479777</td>\n",
       "      <td>0.550357</td>\n",
       "      <td>0.000000</td>\n",
       "      <td>0.0</td>\n",
       "      <td>0.657184</td>\n",
       "      <td>0.063230</td>\n",
       "    </tr>\n",
       "    <tr>\n",
       "      <th>2</th>\n",
       "      <td>0.521087</td>\n",
       "      <td>0.528197</td>\n",
       "      <td>0.000000</td>\n",
       "      <td>1.0</td>\n",
       "      <td>0.308399</td>\n",
       "      <td>0.340587</td>\n",
       "    </tr>\n",
       "    <tr>\n",
       "      <th>3</th>\n",
       "      <td>0.653527</td>\n",
       "      <td>0.262080</td>\n",
       "      <td>0.000000</td>\n",
       "      <td>1.0</td>\n",
       "      <td>0.389123</td>\n",
       "      <td>0.306943</td>\n",
       "    </tr>\n",
       "    <tr>\n",
       "      <th>4</th>\n",
       "      <td>0.510226</td>\n",
       "      <td>0.391683</td>\n",
       "      <td>0.262500</td>\n",
       "      <td>1.0</td>\n",
       "      <td>0.597081</td>\n",
       "      <td>0.495493</td>\n",
       "    </tr>\n",
       "  </tbody>\n",
       "</table>\n",
       "</div>"
      ],
      "text/plain": [
       "   S3_Imput_ratio_skew_outliner_fix_min_max  \\\n",
       "0                                  0.484041   \n",
       "1                                  0.479777   \n",
       "2                                  0.521087   \n",
       "3                                  0.653527   \n",
       "4                                  0.510226   \n",
       "\n",
       "   T4_Imput_ratio_skew_outliner_fix_min_max  \\\n",
       "0                                  0.538267   \n",
       "1                                  0.550357   \n",
       "2                                  0.528197   \n",
       "3                                  0.262080   \n",
       "4                                  0.391683   \n",
       "\n",
       "   C6_log_Imput_p_outliner_fix_min_max  C2_Imput  \\\n",
       "0                             0.583333       1.0   \n",
       "1                             0.000000       0.0   \n",
       "2                             0.000000       1.0   \n",
       "3                             0.000000       1.0   \n",
       "4                             0.262500       1.0   \n",
       "\n",
       "   S2_Imput_ratio_skew_outliner_fix_min_max  \\\n",
       "0                                  0.543764   \n",
       "1                                  0.657184   \n",
       "2                                  0.308399   \n",
       "3                                  0.389123   \n",
       "4                                  0.597081   \n",
       "\n",
       "   C5_log_Imput_p_outliner_fix_min_max  \n",
       "0                             0.570295  \n",
       "1                             0.063230  \n",
       "2                             0.340587  \n",
       "3                             0.306943  \n",
       "4                             0.495493  "
      ]
     },
     "execution_count": 361,
     "metadata": {},
     "output_type": "execute_result"
    }
   ],
   "source": [
    "predictors_y2 = data[t[:]]\n",
    "#predictors_y2.pop('Y1')\n",
    "#predictors_y2.pop('Y2')\n",
    "predictors_y2.head()"
   ]
  },
  {
   "cell_type": "code",
   "execution_count": 362,
   "metadata": {},
   "outputs": [
    {
     "data": {
      "text/plain": [
       "array(['C3_cube_root_Imput_p_min_max', 'C4_Imput_min_max',\n",
       "       'C6_log_Imput_p_outliner_fix_min_max', 'div_other', 'C2_Imput',\n",
       "       'S2_Imput_ratio_skew_outliner_fix_min_max',\n",
       "       'C5_log_Imput_p_outliner_fix_min_max'], dtype=object)"
      ]
     },
     "execution_count": 362,
     "metadata": {},
     "output_type": "execute_result"
    }
   ],
   "source": [
    "best_features_spsa"
   ]
  },
  {
   "cell_type": "code",
   "execution_count": 363,
   "metadata": {},
   "outputs": [
    {
     "data": {
      "text/plain": [
       "array(['C3_cube_root_Imput_p_min_max', 'C4_Imput_min_max',\n",
       "       'C6_log_Imput_p_outliner_fix_min_max', 'div_other', 'C2_Imput',\n",
       "       'S2_Imput_ratio_skew_outliner_fix_min_max',\n",
       "       'C5_log_Imput_p_outliner_fix_min_max'], dtype=object)"
      ]
     },
     "execution_count": 363,
     "metadata": {},
     "output_type": "execute_result"
    }
   ],
   "source": [
    "best_features_spsa"
   ]
  },
  {
   "cell_type": "code",
   "execution_count": 364,
   "metadata": {},
   "outputs": [
    {
     "name": "stdout",
     "output_type": "stream",
     "text": [
      "Num Features: 6\n",
      "Selected Features: [ True  True  True  True  True  True]\n",
      "Feature Ranking: [1 1 1 1 1 1]\n"
     ]
    }
   ],
   "source": [
    "from sklearn.feature_selection import RFE\n",
    "from sklearn.linear_model import LogisticRegression\n",
    "model = LogisticRegression()\n",
    "rfe = RFE(model, 7)\n",
    "fit = rfe.fit(predictors_y2, y2)\n",
    "print(\"Num Features: %s\" % (fit.n_features_))\n",
    "print(\"Selected Features: %s\" % (fit.support_))\n",
    "print(\"Feature Ranking: %s\" % (fit.ranking_))"
   ]
  },
  {
   "cell_type": "markdown",
   "metadata": {},
   "source": [
    "Below code are used to evaluate model toward `Y2`. It is very similar to the code above - key difference is that `Y2` is imbalanced - so I wrote some code (under `# Begin oversampling`) to deal with that."
   ]
  },
  {
   "cell_type": "code",
   "execution_count": 365,
   "metadata": {
    "collapsed": false
   },
   "outputs": [
    {
     "name": "stdout",
     "output_type": "stream",
     "text": [
      "F1 0.6717; AUC 0.6881 \n",
      "Accuracy of classifier on test set: 0.659\n",
      "10-fold cross validation average accuracy of clf1: 0.619\n",
      "Confusion Matrix for Classfier:\n",
      "[[27  9]\n",
      " [36 60]]\n",
      "Classification Report for Classfier:\n",
      "              precision    recall  f1-score   support\n",
      "\n",
      "           0       0.43      0.75      0.55        36\n",
      "           1       0.87      0.62      0.73        96\n",
      "\n",
      "    accuracy                           0.66       132\n",
      "   macro avg       0.65      0.69      0.64       132\n",
      "weighted avg       0.75      0.66      0.68       132\n",
      "\n"
     ]
    }
   ],
   "source": [
    "# lists for f1-score and AUC\n",
    "f1_score_lst = []\n",
    "auc_lst = []\n",
    "\n",
    "\n",
    "#loop to calculate f1 and auc scores and present averages after 10 runs\n",
    "for count in range (1,100):\n",
    "    #Model building\n",
    "    clf1 = LogisticRegression()\n",
    "\n",
    "    \n",
    "    \n",
    "    # Splitting data into testing and training\n",
    "    X2_train, X2_test, y2_train, y2_test = train_test_split(predictors_y2, y2, test_size=0.2, random_state=123)\n",
    "    \n",
    "    # Begin oversampling\n",
    "    oversample = pd.concat([X2_train,y2_train],axis=1)\n",
    "    max_size = oversample['Y2'].value_counts().max()\n",
    "    lst = [oversample]\n",
    "    for class_index, group in oversample.groupby('Y2'):\n",
    "        lst.append(group.sample(max_size-len(group), replace=True))\n",
    "    X2_train = pd.concat(lst)\n",
    "    y2_train=pd.DataFrame.copy(X2_train['Y2'])\n",
    "    del X2_train['Y2']\n",
    "    \n",
    "    # fitting model on oversampled data\n",
    "    clf1.fit(X2_train, y2_train)\n",
    "    \n",
    "    y2_pred = clf1.predict(X2_test)\n",
    "    \n",
    "    \n",
    "    #10-fold cross validation\n",
    "    kfold = model_selection.KFold(n_splits=10, random_state=123, shuffle=True)\n",
    "    scoring = 'accuracy'\n",
    "    results = model_selection.cross_val_score(clf1, X2_train, y2_train, cv=kfold, scoring=scoring)\n",
    "    \n",
    "    #calculate f1-score and AUC\n",
    "    \n",
    "    clf1_roc_auc = roc_auc_score(y2_test, y2_pred)\n",
    "    \n",
    "    \n",
    "    #calculate average f1-score and AUC\n",
    "    f1_score_lst.append(precision_recall_fscore_support(y2_test, y2_pred, average='weighted')[2])\n",
    "    auc_lst.append(clf1_roc_auc)\n",
    "    \n",
    "    \n",
    "print('F1 {:.4f}; AUC {:.4f} '.format(np.mean(f1_score_lst),np.mean(auc_lst)))\n",
    "\n",
    "confusion_matrix_y2 = confusion_matrix(y2_test, y2_pred)\n",
    "\n",
    "\n",
    "print('Accuracy of classifier on test set: {:.3f}'.format(clf1.score(X2_test, y2_test)))\n",
    "\n",
    "print(\"10-fold cross validation average accuracy of clf1: %.3f\" % (results.mean()))\n",
    "\n",
    "print('Confusion Matrix for Classfier:')\n",
    "print(confusion_matrix_y2)\n",
    "\n",
    "print('Classification Report for Classfier:')\n",
    "print(classification_report(y2_test, y2_pred))\n"
   ]
  },
  {
   "cell_type": "code",
   "execution_count": null,
   "metadata": {},
   "outputs": [],
   "source": []
  },
  {
   "cell_type": "code",
   "execution_count": 39,
   "metadata": {},
   "outputs": [
    {
     "data": {
      "text/plain": [
       "0.6724997910485595"
      ]
     },
     "execution_count": 39,
     "metadata": {},
     "output_type": "execute_result"
    }
   ],
   "source": [
    "np.mean(f1_score_lst)"
   ]
  },
  {
   "cell_type": "code",
   "execution_count": null,
   "metadata": {},
   "outputs": [],
   "source": []
  }
 ],
 "metadata": {
  "kernelspec": {
   "display_name": "Python 3",
   "language": "python",
   "name": "python3"
  },
  "language_info": {
   "codemirror_mode": {
    "name": "ipython",
    "version": 3
   },
   "file_extension": ".py",
   "mimetype": "text/x-python",
   "name": "python",
   "nbconvert_exporter": "python",
   "pygments_lexer": "ipython3",
   "version": "3.6.7"
  }
 },
 "nbformat": 4,
 "nbformat_minor": 2
}

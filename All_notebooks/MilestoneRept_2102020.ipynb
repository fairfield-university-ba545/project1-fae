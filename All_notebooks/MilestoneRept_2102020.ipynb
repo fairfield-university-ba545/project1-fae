{
 "cells": [
  {
   "cell_type": "markdown",
   "metadata": {},
   "source": [
    "# Current Milestones\n",
    "\n",
    " - **Used _read_excel_ to open and view Competition Data**\n",
    "\t - Descriptive statistics\n",
    "\t\t - Count, mean, standard deviation, min, max, 1st, 2nd 3rd quartiles, max\n",
    "\t - Collected a summary of initial dataset\n",
    "\t\t - Zero values (count, % of)\n",
    "\t\t - Missing values (count, % of)\n",
    "\t\t - Data type\n",
    " - **Recoding**\n",
    "\t - Binning stocks via SIC Classification\n",
    "\t - To avoid unequal bins, classified 3 primary bins\n",
    "\t\t - Manufacturing (309), Services (206), Other (165)\n",
    " - **Imputation**\n",
    "\t - Using index of L1, identified missing values\n",
    "\t - 22 missing values in P(1Day)\n",
    "\t\t - Imputed using Mean of classification\n",
    "\t - 8 missing SIC values in I3\n",
    "\t\t - Found using htpps://sec.report/Ticker\n",
    "     - Dealt with outlers\n",
    "         - box charts to view outliers\n",
    "     - Ratios of text data\n",
    "     \n",
    " - **Initial testing**\n",
    "     - Min max with sqr root\n",
    "\t - Test1\n",
    "\t\t - Variables:\n",
    "\t\t\t - Y1: F1 0.5529 AUC 0.5584\n",
    "\t\t\t - Y2: F1 0.5903 AUC 0.5609\n",
    "\t - Test2\n",
    "\t\t - Variables:\n",
    "\t\t\t - Y1: F1 0.8885 AUC 0.8846\n",
    "\t\t\t - Y1: F1 0.6205 AUC 0.5607\n",
    "     - Test3 (after meeting & preliminary feature selection)\n",
    "         -Variables\n",
    "             - Y1: F1 0.5964 AUC 0.5949\n",
    "             - Y2: F1 0.6064 AUC 0.6189\n",
    "             - Y1(try #2 after features selection): F1 0.6111; AUC 0.6095 \n",
    "             - Y2(try #2 after features selection): F1 0.6125; AUC 0.6208 \n",
    " - **Feature Selection**\n",
    "     - RFE (Began with 18 features --- selected 7 ~ 8)\n",
    " - **Next Steps**\n",
    "\t - testing with z score\n",
    "     \n",
    " - **Workload Allocation**\n",
    "\t - Faris\n",
    "\t\t - Recoding\n",
    "\t\t - Data summary\n",
    "\t\t - Initial testing with Evaluation code (skew, correlation)\n",
    "\t - Andre\n",
    "\t\t - Research of SIC Classifications for recoding\n",
    "         - imputation using SIC\n",
    "\t - Elise\n",
    "\t\t - Descriptive Statistics, preliminary imputation\n",
    "\t\t - Milestone report\n",
    "\n",
    "**Note: We have met as a group several times and have worked together on a single Jupyter Notebook. Research was done independently & in the Finance Lab.**\n"
   ]
  },
  {
   "cell_type": "code",
   "execution_count": null,
   "metadata": {},
   "outputs": [],
   "source": []
  }
 ],
 "metadata": {
  "kernelspec": {
   "display_name": "Python 3",
   "language": "python",
   "name": "python3"
  },
  "language_info": {
   "codemirror_mode": {
    "name": "ipython",
    "version": 3
   },
   "file_extension": ".py",
   "mimetype": "text/x-python",
   "name": "python",
   "nbconvert_exporter": "python",
   "pygments_lexer": "ipython3",
   "version": "3.6.7"
  }
 },
 "nbformat": 4,
 "nbformat_minor": 4
}

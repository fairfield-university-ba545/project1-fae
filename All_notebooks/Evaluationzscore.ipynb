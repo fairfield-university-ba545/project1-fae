{
 "cells": [
  {
   "cell_type": "markdown",
   "metadata": {},
   "source": [
    "# Example Evaluation Code\n",
    "\n",
    "This notebook will be very __similar__ to the code I use to evaluate your results - it is provided for __your convenience__ so that you can use it to evaluate your preprocessing results at any time before your __final submission__.\n",
    "\n",
    "Please note that the results here will __NOT__ be the same as my evaluation results.\n",
    "\n",
    "Let's start with loading the required packages."
   ]
  },
  {
   "cell_type": "code",
   "execution_count": 2,
   "metadata": {
    "collapsed": false
   },
   "outputs": [],
   "source": [
    "# import required package for data handling\n",
    "import pandas as pd\n",
    "import numpy as np\n",
    "\n",
    "# import required packages for splitting data\n",
    "from sklearn import model_selection\n",
    "from sklearn.model_selection import cross_val_score\n",
    "from sklearn.model_selection import train_test_split\n",
    "\n",
    "# import required packages for evaluating models\n",
    "from sklearn import metrics\n",
    "from sklearn.metrics import confusion_matrix\n",
    "from sklearn.metrics import classification_report\n",
    "from sklearn.metrics import roc_auc_score\n",
    "from sklearn.metrics import accuracy_score\n",
    "from sklearn.metrics import precision_recall_fscore_support\n",
    "\n",
    "# import `logistic regression` model\n",
    "from sklearn.linear_model import LogisticRegression"
   ]
  },
  {
   "cell_type": "markdown",
   "metadata": {},
   "source": [
    "Next you should load __your__ data. In this case, I am using a sample dataset (`GroupX.csv`) which contains 6 predictors (`X1 - X6`) and two target variables (`Y1, Y2`).\n",
    "\n",
    "Please make sure you change the data to your __OWN__ dataset when using this code.\n",
    "\n",
    "__NOTE__:\n",
    "1. Your dataset maybe very different from the sample dataset.\n",
    "2. Please follow this structure when submitting your dataset."
   ]
  },
  {
   "cell_type": "code",
   "execution_count": 2,
   "metadata": {
    "collapsed": false
   },
   "outputs": [
    {
     "data": {
      "text/html": [
       "<div>\n",
       "<style scoped>\n",
       "    .dataframe tbody tr th:only-of-type {\n",
       "        vertical-align: middle;\n",
       "    }\n",
       "\n",
       "    .dataframe tbody tr th {\n",
       "        vertical-align: top;\n",
       "    }\n",
       "\n",
       "    .dataframe thead th {\n",
       "        text-align: right;\n",
       "    }\n",
       "</style>\n",
       "<table border=\"1\" class=\"dataframe\">\n",
       "  <thead>\n",
       "    <tr style=\"text-align: right;\">\n",
       "      <th></th>\n",
       "      <th>X1</th>\n",
       "      <th>X2</th>\n",
       "      <th>X3</th>\n",
       "      <th>X4</th>\n",
       "      <th>X5</th>\n",
       "      <th>X6</th>\n",
       "      <th>Y1</th>\n",
       "      <th>Y2</th>\n",
       "    </tr>\n",
       "  </thead>\n",
       "  <tbody>\n",
       "    <tr>\n",
       "      <th>0</th>\n",
       "      <td>1</td>\n",
       "      <td>63.008</td>\n",
       "      <td>60.735</td>\n",
       "      <td>52.482</td>\n",
       "      <td>45.474</td>\n",
       "      <td>48.495</td>\n",
       "      <td>0</td>\n",
       "      <td>1</td>\n",
       "    </tr>\n",
       "    <tr>\n",
       "      <th>1</th>\n",
       "      <td>0</td>\n",
       "      <td>38.417</td>\n",
       "      <td>52.756</td>\n",
       "      <td>66.680</td>\n",
       "      <td>45.059</td>\n",
       "      <td>0.000</td>\n",
       "      <td>1</td>\n",
       "      <td>0</td>\n",
       "    </tr>\n",
       "    <tr>\n",
       "      <th>2</th>\n",
       "      <td>0</td>\n",
       "      <td>58.163</td>\n",
       "      <td>61.107</td>\n",
       "      <td>30.678</td>\n",
       "      <td>49.188</td>\n",
       "      <td>0.000</td>\n",
       "      <td>1</td>\n",
       "      <td>0</td>\n",
       "    </tr>\n",
       "    <tr>\n",
       "      <th>3</th>\n",
       "      <td>0</td>\n",
       "      <td>57.762</td>\n",
       "      <td>67.167</td>\n",
       "      <td>37.176</td>\n",
       "      <td>64.204</td>\n",
       "      <td>0.000</td>\n",
       "      <td>1</td>\n",
       "      <td>1</td>\n",
       "    </tr>\n",
       "    <tr>\n",
       "      <th>4</th>\n",
       "      <td>1</td>\n",
       "      <td>25.930</td>\n",
       "      <td>44.696</td>\n",
       "      <td>58.801</td>\n",
       "      <td>48.079</td>\n",
       "      <td>21.823</td>\n",
       "      <td>0</td>\n",
       "      <td>1</td>\n",
       "    </tr>\n",
       "  </tbody>\n",
       "</table>\n",
       "</div>"
      ],
      "text/plain": [
       "   X1      X2      X3      X4      X5      X6  Y1  Y2\n",
       "0   1  63.008  60.735  52.482  45.474  48.495   0   1\n",
       "1   0  38.417  52.756  66.680  45.059   0.000   1   0\n",
       "2   0  58.163  61.107  30.678  49.188   0.000   1   0\n",
       "3   0  57.762  67.167  37.176  64.204   0.000   1   1\n",
       "4   1  25.930  44.696  58.801  48.079  21.823   0   1"
      ]
     },
     "execution_count": 2,
     "metadata": {},
     "output_type": "execute_result"
    }
   ],
   "source": [
    "data = pd.read_csv('GroupX.csv', header=0)\n",
    "data.head()"
   ]
  },
  {
   "cell_type": "code",
   "execution_count": null,
   "metadata": {},
   "outputs": [],
   "source": []
  },
  {
   "cell_type": "code",
   "execution_count": 3,
   "metadata": {},
   "outputs": [
    {
     "data": {
      "text/plain": [
       "\"data = pd.read_csv('test1.csv',usecols =[ 'C1' , 'C2' , 'C3_p' ,'C4' , 'C5_p' , 'C6_p' , \\n                                        'C7' , 'T1' ,'T2' ,'T3','T4' , 'T5', 'S1','S2','S3' ,'div_manufacturing' ,'div_other' ,'div_services' ,'Y1', 'Y2' ])\\n\""
      ]
     },
     "execution_count": 3,
     "metadata": {},
     "output_type": "execute_result"
    }
   ],
   "source": [
    "'''data = pd.read_csv('test1.csv',usecols =[ 'C1' , 'C2' , 'C3_p' ,'C4' , 'C5_p' , 'C6_p' , \n",
    "                                        'C7' , 'T1' ,'T2' ,'T3','T4' , 'T5', 'S1','S2','S3' ,'div_manufacturing' ,'div_other' ,'div_services' ,'Y1', 'Y2' ])\n",
    "'''"
   ]
  },
  {
   "cell_type": "code",
   "execution_count": 3,
   "metadata": {},
   "outputs": [],
   "source": [
    "data = pd.read_csv('data_imputed_outliers_fixed_cube_root_zscore.csv',usecols = ['C3_Imput_p_zscore',  'Y1' , 'Y2' ,\n",
    "                                                               'C1_Imput_outliner_fix_zscore',\n",
    "                                                                'C2_Imput',\n",
    "                                                                'C4_Imput_zscore',\n",
    "                                                                'C5_Imput_p_outliner_fix_zscore',\n",
    "                                                                'C6_Imput_p_outliner_fix_cube_root_zscore',\n",
    "                                                                'C7_Imput_outliner_fix_cube_root_zscore',\n",
    "                                                                'div_manufacturing','div_other','div_services',\n",
    "                                                                'T3_Imput_ratio_outliner_fix_zscore',\n",
    "                                                                'T4_Imput_ratio_outliner_fix_zscore',\n",
    "                                                                'T5_Imput_ratio_outliner_fix_zscore',\n",
    "                                                                'S1_Imput_ratio_outliner_fix_zscore',\n",
    "                                                                'S2_Imput_ratio_outliner_fix_zscore',\n",
    "                                                                'S3_Imput_ratio_outliner_fix_zscore'])"
   ]
  },
  {
   "cell_type": "markdown",
   "metadata": {},
   "source": [
    "Checking your data types and make sure it follows the data dictionary would be an important step, you can do that using the `.dtypes` attribute.\n",
    "\n",
    "__NOTE__: all __continuous__ faetures will be in `float64` data type, and all __categorical__ features will be in `int64` data type (given you already coded (per __suggest task \\#6__ in the competition document) them)."
   ]
  },
  {
   "cell_type": "code",
   "execution_count": 4,
   "metadata": {
    "collapsed": false
   },
   "outputs": [
    {
     "data": {
      "text/plain": [
       "div_manufacturing                             int64\n",
       "div_other                                     int64\n",
       "div_services                                  int64\n",
       "Y1                                            int64\n",
       "Y2                                            int64\n",
       "C2_Imput                                    float64\n",
       "C1_Imput_outliner_fix_zscore                float64\n",
       "C3_Imput_p_zscore                           float64\n",
       "C4_Imput_zscore                             float64\n",
       "C5_Imput_p_outliner_fix_zscore              float64\n",
       "C6_Imput_p_outliner_fix_cube_root_zscore    float64\n",
       "C7_Imput_outliner_fix_cube_root_zscore      float64\n",
       "T3_Imput_ratio_outliner_fix_zscore          float64\n",
       "T4_Imput_ratio_outliner_fix_zscore          float64\n",
       "T5_Imput_ratio_outliner_fix_zscore          float64\n",
       "S1_Imput_ratio_outliner_fix_zscore          float64\n",
       "S2_Imput_ratio_outliner_fix_zscore          float64\n",
       "S3_Imput_ratio_outliner_fix_zscore          float64\n",
       "dtype: object"
      ]
     },
     "execution_count": 4,
     "metadata": {},
     "output_type": "execute_result"
    }
   ],
   "source": [
    "data.dtypes"
   ]
  },
  {
   "cell_type": "code",
   "execution_count": 5,
   "metadata": {},
   "outputs": [
    {
     "data": {
      "text/plain": [
       "0      1\n",
       "1      0\n",
       "2      0\n",
       "3      1\n",
       "4      1\n",
       "      ..\n",
       "655    1\n",
       "656    1\n",
       "657    0\n",
       "658    0\n",
       "659    0\n",
       "Name: Y2, Length: 660, dtype: int64"
      ]
     },
     "execution_count": 5,
     "metadata": {},
     "output_type": "execute_result"
    }
   ],
   "source": [
    "data.Y2"
   ]
  },
  {
   "cell_type": "markdown",
   "metadata": {},
   "source": [
    "Now you need to specify your targets and predictors. __NOTE__ we have two targets here (`Y1, Y2`)."
   ]
  },
  {
   "cell_type": "code",
   "execution_count": 6,
   "metadata": {
    "collapsed": true
   },
   "outputs": [],
   "source": [
    "y1 = data.Y1\n",
    "y2 = data.Y2"
   ]
  },
  {
   "cell_type": "markdown",
   "metadata": {},
   "source": [
    "Check the shape of the data."
   ]
  },
  {
   "cell_type": "code",
   "execution_count": 7,
   "metadata": {
    "collapsed": false
   },
   "outputs": [
    {
     "data": {
      "text/plain": [
       "(660, 18)"
      ]
     },
     "execution_count": 7,
     "metadata": {},
     "output_type": "execute_result"
    }
   ],
   "source": [
    "data.shape"
   ]
  },
  {
   "cell_type": "markdown",
   "metadata": {},
   "source": [
    "It is very possible that you will use different sets of the predictors for `Y1` and `Y2`. Now let's define them.\n",
    "\n",
    "First, let's define predictors for `Y1` - which will be the first 5 features in `data`."
   ]
  },
  {
   "cell_type": "code",
   "execution_count": 8,
   "metadata": {
    "collapsed": false
   },
   "outputs": [
    {
     "data": {
      "text/plain": [
       "['C6_Imput_p_outliner_fix_min_max_cube_root',\n",
       " 'C3_Imput_p_zscore',\n",
       " 'C1_Imput_outliner_fix_min_max',\n",
       " 'C2_Imput_min_max',\n",
       " 'C4_Imput_min_max',\n",
       " 'C5_Imput_p_outliner_fix_min_max']"
      ]
     },
     "execution_count": 8,
     "metadata": {},
     "output_type": "execute_result"
    }
   ],
   "source": [
    "\n",
    "cols =  [ 'Y1','Y2','C6_Imput_p_outliner_fix_min_max_cube_root', 'C3_Imput_p_zscore',\n",
    "        'C1_Imput_outliner_fix_min_max',\n",
    "                                                                'C2_Imput_min_max',\n",
    "                                                                'C4_Imput_min_max',\n",
    "                                                                'C5_Imput_p_outliner_fix_min_max',\n",
    "                                                                \n",
    "                                                                'C7_Imput_outliner_fix_min_max_cube_root',\n",
    "                                                                'div_manufacturing','div_other','div_services',\n",
    "                                                                'T3_Imput_ratio_outliner_fix_min_max',\n",
    "                                                                'T4_Imput_ratio_outliner_fix_min_max',\n",
    "                                                                'T5_Imput_ratio_outliner_fix_min_max',\n",
    "                                                                'S1_Imput_ratio_outliner_fix_min_max',\n",
    "                                                                'S2_Imput_ratio_outliner_fix_min_max',\n",
    "                                                                'S3_Imput_ratio_outliner_fix_min_max' ]\n",
    "# first 5 features \n",
    "cols[2:-10]"
   ]
  },
  {
   "cell_type": "code",
   "execution_count": 9,
   "metadata": {},
   "outputs": [],
   "source": [
    "cols =  [ 'Y1','Y2', 'C6_Imput_p_outliner_fix_cube_root_zscore', 'C3_Imput_p_zscore',\n",
    "        \n",
    "                                                               'C1_Imput_outliner_fix_zscore',\n",
    "                                                                'C2_Imput',\n",
    "                                                                'C4_Imput_zscore',\n",
    "                                                                'C5_Imput_p_outliner_fix_zscore',\n",
    "                                                               \n",
    "                                                                'C7_Imput_outliner_fix_cube_root_zscore',\n",
    "                                                                'div_manufacturing',\n",
    "         'div_other',\n",
    "         'div_services',\n",
    "                                                                'T3_Imput_ratio_outliner_fix_zscore',\n",
    "                                                                'T4_Imput_ratio_outliner_fix_zscore',\n",
    "                                                                'T5_Imput_ratio_outliner_fix_zscore',\n",
    "                                                                'S1_Imput_ratio_outliner_fix_zscore',\n",
    "                                                                'S2_Imput_ratio_outliner_fix_zscore',\n",
    "                                                                'S3_Imput_ratio_outliner_fix_zscore']"
   ]
  },
  {
   "cell_type": "code",
   "execution_count": 10,
   "metadata": {},
   "outputs": [],
   "source": [
    "\n",
    "cols_y1 =  [ 'Y1','Y2', 'C6_Imput_p_outliner_fix_cube_root_zscore', \n",
    "        \n",
    "                                                               'C1_Imput_outliner_fix_zscore',\n",
    "                                                                'C2_Imput',\n",
    "                                                                \n",
    "                                                                'C5_Imput_p_outliner_fix_zscore',\n",
    "                                                              \n",
    "                                     \n",
    "                                                              \n",
    "                                                          \n",
    "                                                                'S2_Imput_ratio_outliner_fix_zscore',\n",
    "                                                           ]"
   ]
  },
  {
   "cell_type": "code",
   "execution_count": 11,
   "metadata": {},
   "outputs": [],
   "source": [
    "                                                               \n",
    "cols_y1_2 =  [ 'Y1','Y2', 'C6_Imput_p_outliner_fix_cube_root_zscore', \n",
    "        \n",
    "                                                               'C1_Imput_outliner_fix_zscore',\n",
    "                                                                'C2_Imput',\n",
    "                                                                'C4_Imput_zscore',\n",
    "                                                                \n",
    "                                                               \n",
    "                                                               \n",
    "                                                               \n",
    "                                                                \n",
    "                                                               \n",
    "                                                                'S1_Imput_ratio_outliner_fix_zscore',\n",
    "                                                                'S2_Imput_ratio_outliner_fix_zscore',\n",
    "                                                                ]                                           \n"
   ]
  },
  {
   "cell_type": "markdown",
   "metadata": {},
   "source": [
    "Use below code to select the first 5 features as predictors for `Y1`."
   ]
  },
  {
   "cell_type": "code",
   "execution_count": 12,
   "metadata": {
    "collapsed": false
   },
   "outputs": [
    {
     "data": {
      "text/html": [
       "<div>\n",
       "<style scoped>\n",
       "    .dataframe tbody tr th:only-of-type {\n",
       "        vertical-align: middle;\n",
       "    }\n",
       "\n",
       "    .dataframe tbody tr th {\n",
       "        vertical-align: top;\n",
       "    }\n",
       "\n",
       "    .dataframe thead th {\n",
       "        text-align: right;\n",
       "    }\n",
       "</style>\n",
       "<table border=\"1\" class=\"dataframe\">\n",
       "  <thead>\n",
       "    <tr style=\"text-align: right;\">\n",
       "      <th></th>\n",
       "      <th>C1_Imput_outliner_fix_zscore</th>\n",
       "      <th>C2_Imput</th>\n",
       "      <th>C4_Imput_zscore</th>\n",
       "      <th>S1_Imput_ratio_outliner_fix_zscore</th>\n",
       "      <th>S2_Imput_ratio_outliner_fix_zscore</th>\n",
       "    </tr>\n",
       "  </thead>\n",
       "  <tbody>\n",
       "    <tr>\n",
       "      <th>0</th>\n",
       "      <td>0.121855</td>\n",
       "      <td>1.0</td>\n",
       "      <td>0.654566</td>\n",
       "      <td>-0.215613</td>\n",
       "      <td>0.171342</td>\n",
       "    </tr>\n",
       "    <tr>\n",
       "      <th>1</th>\n",
       "      <td>3.007508</td>\n",
       "      <td>0.0</td>\n",
       "      <td>-0.619777</td>\n",
       "      <td>-1.290951</td>\n",
       "      <td>0.957802</td>\n",
       "    </tr>\n",
       "    <tr>\n",
       "      <th>2</th>\n",
       "      <td>-0.552166</td>\n",
       "      <td>1.0</td>\n",
       "      <td>0.403480</td>\n",
       "      <td>0.705841</td>\n",
       "      <td>-1.036496</td>\n",
       "    </tr>\n",
       "    <tr>\n",
       "      <th>3</th>\n",
       "      <td>1.954350</td>\n",
       "      <td>1.0</td>\n",
       "      <td>0.382698</td>\n",
       "      <td>0.705841</td>\n",
       "      <td>-0.676577</td>\n",
       "    </tr>\n",
       "    <tr>\n",
       "      <th>4</th>\n",
       "      <td>-0.762797</td>\n",
       "      <td>1.0</td>\n",
       "      <td>-1.266863</td>\n",
       "      <td>-0.452915</td>\n",
       "      <td>0.521369</td>\n",
       "    </tr>\n",
       "  </tbody>\n",
       "</table>\n",
       "</div>"
      ],
      "text/plain": [
       "   C1_Imput_outliner_fix_zscore  C2_Imput  C4_Imput_zscore  \\\n",
       "0                      0.121855       1.0         0.654566   \n",
       "1                      3.007508       0.0        -0.619777   \n",
       "2                     -0.552166       1.0         0.403480   \n",
       "3                      1.954350       1.0         0.382698   \n",
       "4                     -0.762797       1.0        -1.266863   \n",
       "\n",
       "   S1_Imput_ratio_outliner_fix_zscore  S2_Imput_ratio_outliner_fix_zscore  \n",
       "0                           -0.215613                            0.171342  \n",
       "1                           -1.290951                            0.957802  \n",
       "2                            0.705841                           -1.036496  \n",
       "3                            0.705841                           -0.676577  \n",
       "4                           -0.452915                            0.521369  "
      ]
     },
     "execution_count": 12,
     "metadata": {},
     "output_type": "execute_result"
    }
   ],
   "source": [
    "predictors_y1 = data[cols_y1_2[3:]]\n",
    "predictors_y1.head()\n",
    "#predictors_y1.pop('Y1')\n",
    "#predictors_y1.pop('Y2')\n",
    "predictors_y1.head()"
   ]
  },
  {
   "cell_type": "code",
   "execution_count": 13,
   "metadata": {},
   "outputs": [
    {
     "name": "stdout",
     "output_type": "stream",
     "text": [
      "Num Features: 5\n",
      "Selected Features: [ True  True  True  True  True]\n",
      "Feature Ranking: [1 1 1 1 1]\n"
     ]
    }
   ],
   "source": [
    "from sklearn.feature_selection import RFE\n",
    "from sklearn.linear_model import LogisticRegression\n",
    "model = LogisticRegression()\n",
    "rfe = RFE(model, 5)\n",
    "fit = rfe.fit(predictors_y1, y1)\n",
    "print(\"Num Features: %s\" % (fit.n_features_))\n",
    "print(\"Selected Features: %s\" % (fit.support_))\n",
    "print(\"Feature Ranking: %s\" % (fit.ranking_))"
   ]
  },
  {
   "cell_type": "code",
   "execution_count": null,
   "metadata": {},
   "outputs": [],
   "source": [
    "\n"
   ]
  },
  {
   "cell_type": "code",
   "execution_count": 14,
   "metadata": {},
   "outputs": [],
   "source": [
    "\n",
    "\n",
    "\n",
    "cols_y2 =   [ 'Y1','Y2',   'T5_Imput_ratio_outliner_fix_zscore', 'T4_Imput_ratio_outliner_fix_zscore',  'T3_Imput_ratio_outliner_fix_zscore',\n",
    "                                                               \n",
    "                                                             \n",
    "                                                               \n",
    "                                                                'C4_Imput_zscore',\n",
    "                                                                'C5_Imput_p_outliner_fix_zscore',\n",
    "                                                               \n",
    "                                                                'C7_Imput_outliner_fix_cube_root_zscore',\n",
    "                                                               \n",
    "    \n",
    "         'div_other',\n",
    "       \n",
    "                                          \n",
    "                                                                \n",
    "                                                              \n",
    "                                                                'S1_Imput_ratio_outliner_fix_zscore',\n",
    "                                                                \n",
    "                                                               \n",
    "                                                               \n",
    "                                                              ]"
   ]
  },
  {
   "cell_type": "code",
   "execution_count": 23,
   "metadata": {},
   "outputs": [],
   "source": [
    "cols_y2_2 =  [ 'Y1','Y2', 'C6_Imput_p_outliner_fix_cube_root_zscore', \n",
    "        \n",
    "                                                              \n",
    "                                                                \n",
    "                                                            \n",
    "                                                                'C5_Imput_p_outliner_fix_zscore',\n",
    "                                                               \n",
    "                                                                'C7_Imput_outliner_fix_cube_root_zscore',\n",
    "                                                              \n",
    "    \n",
    "         \n",
    "                                                                'T3_Imput_ratio_outliner_fix_zscore',\n",
    "                                                                'T5_Imput_ratio_outliner_fix_zscore',\n",
    "                                                                \n",
    "                                                                'S1_Imput_ratio_outliner_fix_zscore',\n",
    "                                                         \n",
    "                                                                'S3_Imput_ratio_outliner_fix_zscore']"
   ]
  },
  {
   "cell_type": "markdown",
   "metadata": {},
   "source": [
    "Upon investigation of the data, we know we have __six__ features (`X1 - X6`) predicting `Y2`. Use similar code (as below) to select them."
   ]
  },
  {
   "cell_type": "code",
   "execution_count": 24,
   "metadata": {
    "collapsed": false
   },
   "outputs": [
    {
     "data": {
      "text/html": [
       "<div>\n",
       "<style scoped>\n",
       "    .dataframe tbody tr th:only-of-type {\n",
       "        vertical-align: middle;\n",
       "    }\n",
       "\n",
       "    .dataframe tbody tr th {\n",
       "        vertical-align: top;\n",
       "    }\n",
       "\n",
       "    .dataframe thead th {\n",
       "        text-align: right;\n",
       "    }\n",
       "</style>\n",
       "<table border=\"1\" class=\"dataframe\">\n",
       "  <thead>\n",
       "    <tr style=\"text-align: right;\">\n",
       "      <th></th>\n",
       "      <th>C6_Imput_p_outliner_fix_cube_root_zscore</th>\n",
       "      <th>C5_Imput_p_outliner_fix_zscore</th>\n",
       "      <th>C7_Imput_outliner_fix_cube_root_zscore</th>\n",
       "      <th>T3_Imput_ratio_outliner_fix_zscore</th>\n",
       "      <th>T5_Imput_ratio_outliner_fix_zscore</th>\n",
       "      <th>S1_Imput_ratio_outliner_fix_zscore</th>\n",
       "      <th>S3_Imput_ratio_outliner_fix_zscore</th>\n",
       "    </tr>\n",
       "  </thead>\n",
       "  <tbody>\n",
       "    <tr>\n",
       "      <th>0</th>\n",
       "      <td>1.304068</td>\n",
       "      <td>0.010215</td>\n",
       "      <td>-0.638509</td>\n",
       "      <td>0.677036</td>\n",
       "      <td>0.334955</td>\n",
       "      <td>-0.215613</td>\n",
       "      <td>-0.157634</td>\n",
       "    </tr>\n",
       "    <tr>\n",
       "      <th>1</th>\n",
       "      <td>-0.787904</td>\n",
       "      <td>0.724532</td>\n",
       "      <td>-0.974205</td>\n",
       "      <td>0.141838</td>\n",
       "      <td>-0.110184</td>\n",
       "      <td>-1.290951</td>\n",
       "      <td>-0.180627</td>\n",
       "    </tr>\n",
       "    <tr>\n",
       "      <th>2</th>\n",
       "      <td>-0.787904</td>\n",
       "      <td>-0.345815</td>\n",
       "      <td>-1.446763</td>\n",
       "      <td>0.702002</td>\n",
       "      <td>1.506698</td>\n",
       "      <td>0.705841</td>\n",
       "      <td>0.048069</td>\n",
       "    </tr>\n",
       "    <tr>\n",
       "      <th>3</th>\n",
       "      <td>-0.787904</td>\n",
       "      <td>-0.395737</td>\n",
       "      <td>-1.400485</td>\n",
       "      <td>1.108460</td>\n",
       "      <td>1.485825</td>\n",
       "      <td>0.705841</td>\n",
       "      <td>0.879726</td>\n",
       "    </tr>\n",
       "    <tr>\n",
       "      <th>4</th>\n",
       "      <td>1.193357</td>\n",
       "      <td>-0.089054</td>\n",
       "      <td>1.329414</td>\n",
       "      <td>-0.398779</td>\n",
       "      <td>-0.553799</td>\n",
       "      <td>-0.452915</td>\n",
       "      <td>-0.013363</td>\n",
       "    </tr>\n",
       "  </tbody>\n",
       "</table>\n",
       "</div>"
      ],
      "text/plain": [
       "   C6_Imput_p_outliner_fix_cube_root_zscore  C5_Imput_p_outliner_fix_zscore  \\\n",
       "0                                  1.304068                        0.010215   \n",
       "1                                 -0.787904                        0.724532   \n",
       "2                                 -0.787904                       -0.345815   \n",
       "3                                 -0.787904                       -0.395737   \n",
       "4                                  1.193357                       -0.089054   \n",
       "\n",
       "   C7_Imput_outliner_fix_cube_root_zscore  T3_Imput_ratio_outliner_fix_zscore  \\\n",
       "0                               -0.638509                            0.677036   \n",
       "1                               -0.974205                            0.141838   \n",
       "2                               -1.446763                            0.702002   \n",
       "3                               -1.400485                            1.108460   \n",
       "4                                1.329414                           -0.398779   \n",
       "\n",
       "   T5_Imput_ratio_outliner_fix_zscore  S1_Imput_ratio_outliner_fix_zscore  \\\n",
       "0                            0.334955                           -0.215613   \n",
       "1                           -0.110184                           -1.290951   \n",
       "2                            1.506698                            0.705841   \n",
       "3                            1.485825                            0.705841   \n",
       "4                           -0.553799                           -0.452915   \n",
       "\n",
       "   S3_Imput_ratio_outliner_fix_zscore  \n",
       "0                           -0.157634  \n",
       "1                           -0.180627  \n",
       "2                            0.048069  \n",
       "3                            0.879726  \n",
       "4                           -0.013363  "
      ]
     },
     "execution_count": 24,
     "metadata": {},
     "output_type": "execute_result"
    }
   ],
   "source": [
    "predictors_y2 = data[cols_y2_2[2:]]\n",
    "#predictors_y2.pop('Y1')\n",
    "#predictors_y2.pop('Y2')\n",
    "predictors_y2.head()"
   ]
  },
  {
   "cell_type": "code",
   "execution_count": 29,
   "metadata": {},
   "outputs": [
    {
     "name": "stdout",
     "output_type": "stream",
     "text": [
      "Num Features: 5\n",
      "Selected Features: [ True  True  True False False False  True  True]\n",
      "Feature Ranking: [1 1 1 2 3 4 1 1]\n"
     ]
    }
   ],
   "source": [
    "from sklearn.feature_selection import RFE\n",
    "from sklearn.linear_model import LogisticRegression\n",
    "model = LogisticRegression()\n",
    "rfe = RFE(model,5 )\n",
    "fit = rfe.fit(predictors_y2, y2)\n",
    "print(\"Num Features: %s\" % (fit.n_features_))\n",
    "print(\"Selected Features: %s\" % (fit.support_))\n",
    "print(\"Feature Ranking: %s\" % (fit.ranking_))"
   ]
  },
  {
   "cell_type": "markdown",
   "metadata": {},
   "source": [
    "Below is the key part of this notebook - which generates a `logistic regression` model to predict `Y1`/`Y2`.\n",
    "\n",
    "The code works this way:\n",
    "\n",
    "1. We generate two lists `f1_score_lst` and `auc_lst` to store f1_score and AUC from each of the `10` runs of the model;\n",
    "2. Define model:\n",
    "    1. We define a `LogisticRegression()` model;\n",
    "    \n",
    "    2. We split predictors (`predictors_y1`) and target `y1` to training (80%) and testing (20%);\n",
    "    \n",
    "    3. We fit the model `clf` to the training data, then use it to predict on the testing data;\n",
    "    \n",
    "    4. We also defined a `10-fold cross validation` to make sure our model do not overfit - see [here](https://scikit-learn.org/stable/modules/cross_validation.html) for more info;\n",
    "    \n",
    "    5. We append the f1_score and AUC of current model to the lists (`f1_score_lst` and `auc_lst`) we defined earlier.\n",
    "  \n",
    "3. Print out average f1_score and AUC for all 10 runs;\n",
    "4. Print out average average accuracy from cross validation\n",
    "5. Print out confusion matrix and classification report for the __last__ model.\n",
    "\n",
    "__NOTE__: Step 3 provides the evaluation results we need; step 4 - 5 can be used to verify the results from step 3."
   ]
  },
  {
   "cell_type": "code",
   "execution_count": 18,
   "metadata": {
    "collapsed": false
   },
   "outputs": [
    {
     "name": "stdout",
     "output_type": "stream",
     "text": [
      "F1 0.6687; AUC 0.6809 \n",
      "Accuracy of classifier on test set: 0.67\n",
      "10-fold cross validation average accuracy of classifier: 0.557\n",
      "Confusion Matrix for Logistic Regression Classfier:\n",
      "[[47 31]\n",
      " [13 41]]\n",
      "Classification Report for Logistic Regression Classfier:\n",
      "              precision    recall  f1-score   support\n",
      "\n",
      "           0       0.78      0.60      0.68        78\n",
      "           1       0.57      0.76      0.65        54\n",
      "\n",
      "    accuracy                           0.67       132\n",
      "   macro avg       0.68      0.68      0.67       132\n",
      "weighted avg       0.70      0.67      0.67       132\n",
      "\n"
     ]
    }
   ],
   "source": [
    "# lists for f1-score and AUC\n",
    "f1_score_lst = []\n",
    "auc_lst = []\n",
    "\n",
    "\n",
    "#loop to calculate f1 and auc scores and present averages after 10 runs\n",
    "for count in range (1,100):\n",
    "    #Model building\n",
    "    clf = LogisticRegression()\n",
    "    X1_train, X1_test, y1_train, y1_test = train_test_split(predictors_y1, y1, test_size=0.2, random_state=123)\n",
    "    clf.fit(X1_train, y1_train)\n",
    "\n",
    "    y1_pred = clf.predict(X1_test)\n",
    "\n",
    "    \n",
    "    #10-fold cross validation\n",
    "    kfold = model_selection.KFold(n_splits=10, random_state=123, shuffle=True)\n",
    "    scoring = 'accuracy'\n",
    "    results = model_selection.cross_val_score(clf, X1_train, y1_train, cv=kfold, scoring=scoring)\n",
    "\n",
    "    \n",
    "\n",
    "    \n",
    "    #calculate f1-score and AUC\n",
    "    \n",
    "    clf_roc_auc = roc_auc_score(y1_test, y1_pred)\n",
    "    f1_score_lst.append(precision_recall_fscore_support(y1_test, y1_pred, average='weighted')[2])\n",
    "    auc_lst.append(clf_roc_auc)\n",
    "\n",
    "\n",
    "print('F1 {:.4f}; AUC {:.4f} '.format(np.mean(f1_score_lst),np.mean(auc_lst)))\n",
    "\n",
    "#result=logit_model.fit()\n",
    "confusion_matrix_y1 = confusion_matrix(y1_test, y1_pred)\n",
    "\n",
    "\n",
    "#print(result.summary())\n",
    "print('Accuracy of classifier on test set: {:.2f}'.format(clf.score(X1_test, y1_test)))\n",
    "\n",
    "print(\"10-fold cross validation average accuracy of classifier: %.3f\" % (results.mean()))\n",
    "\n",
    "print('Confusion Matrix for Logistic Regression Classfier:')\n",
    "print(confusion_matrix_y1)\n",
    "\n",
    "print('Classification Report for Logistic Regression Classfier:')\n",
    "print(classification_report(y1_test, y1_pred))\n"
   ]
  },
  {
   "cell_type": "markdown",
   "metadata": {},
   "source": [
    "Below code are used to evaluate model toward `Y2`. It is very similar to the code above - key difference is that `Y2` is imbalanced - so I wrote some code (under `# Begin oversampling`) to deal with that."
   ]
  },
  {
   "cell_type": "code",
   "execution_count": 22,
   "metadata": {
    "collapsed": false
   },
   "outputs": [
    {
     "name": "stdout",
     "output_type": "stream",
     "text": [
      "F1 0.6655; AUC 0.6734 \n",
      "Accuracy of classifier on test set: 0.636\n",
      "10-fold cross validation average accuracy of clf1: 0.621\n",
      "Confusion Matrix for Classfier:\n",
      "[[27  9]\n",
      " [39 57]]\n",
      "Classification Report for Classfier:\n",
      "              precision    recall  f1-score   support\n",
      "\n",
      "           0       0.41      0.75      0.53        36\n",
      "           1       0.86      0.59      0.70        96\n",
      "\n",
      "    accuracy                           0.64       132\n",
      "   macro avg       0.64      0.67      0.62       132\n",
      "weighted avg       0.74      0.64      0.66       132\n",
      "\n"
     ]
    }
   ],
   "source": [
    "# lists for f1-score and AUC\n",
    "f1_score_lst = []\n",
    "auc_lst = []\n",
    "\n",
    "\n",
    "#loop to calculate f1 and auc scores and present averages after 10 runs\n",
    "for count in range (1,100):\n",
    "    #Model building\n",
    "    clf1 = LogisticRegression()\n",
    "\n",
    "    \n",
    "    # Splitting data into testing and training\n",
    "    X2_train, X2_test, y2_train, y2_test = train_test_split(predictors_y2, y2, test_size=0.2, random_state=123)\n",
    "    \n",
    "    # Begin oversampling\n",
    "    oversample = pd.concat([X2_train,y2_train],axis=1)\n",
    "    max_size = oversample['Y2'].value_counts().max()\n",
    "    lst = [oversample]\n",
    "    for class_index, group in oversample.groupby('Y2'):\n",
    "        lst.append(group.sample(max_size-len(group), replace=True))\n",
    "    X2_train = pd.concat(lst)\n",
    "    y2_train=pd.DataFrame.copy(X2_train['Y2'])\n",
    "    del X2_train['Y2']\n",
    "    \n",
    "    # fitting model on oversampled data\n",
    "    clf1.fit(X2_train, y2_train)\n",
    "    \n",
    "    y2_pred = clf1.predict(X2_test)\n",
    "    \n",
    "    \n",
    "    #10-fold cross validation\n",
    "    kfold = model_selection.KFold(n_splits=10, random_state=123, shuffle=True)\n",
    "    scoring = 'accuracy'\n",
    "    results = model_selection.cross_val_score(clf1, X2_train, y2_train, cv=kfold, scoring=scoring)\n",
    "    \n",
    "    #calculate f1-score and AUC\n",
    "    \n",
    "    clf1_roc_auc = roc_auc_score(y2_test, y2_pred)\n",
    "    \n",
    "    \n",
    "    #calculate average f1-score and AUC\n",
    "    f1_score_lst.append(precision_recall_fscore_support(y2_test, y2_pred, average='weighted')[2])\n",
    "    auc_lst.append(clf1_roc_auc)\n",
    "    \n",
    "    \n",
    "print('F1 {:.4f}; AUC {:.4f} '.format(np.mean(f1_score_lst),np.mean(auc_lst)))\n",
    "\n",
    "confusion_matrix_y2 = confusion_matrix(y2_test, y2_pred)\n",
    "\n",
    "\n",
    "print('Accuracy of classifier on test set: {:.3f}'.format(clf1.score(X2_test, y2_test)))\n",
    "\n",
    "print(\"10-fold cross validation average accuracy of clf1: %.3f\" % (results.mean()))\n",
    "\n",
    "print('Confusion Matrix for Classfier:')\n",
    "print(confusion_matrix_y2)\n",
    "\n",
    "print('Classification Report for Classfier:')\n",
    "print(classification_report(y2_test, y2_pred))\n"
   ]
  },
  {
   "cell_type": "code",
   "execution_count": 1131,
   "metadata": {},
   "outputs": [
    {
     "data": {
      "text/plain": [
       "461"
      ]
     },
     "execution_count": 1131,
     "metadata": {},
     "output_type": "execute_result"
    }
   ],
   "source": [
    "data['Y2'].value_counts().max()"
   ]
  },
  {
   "cell_type": "code",
   "execution_count": null,
   "metadata": {
    "collapsed": true
   },
   "outputs": [],
   "source": []
  },
  {
   "cell_type": "code",
   "execution_count": null,
   "metadata": {},
   "outputs": [],
   "source": []
  },
  {
   "cell_type": "code",
   "execution_count": null,
   "metadata": {},
   "outputs": [],
   "source": []
  },
  {
   "cell_type": "code",
   "execution_count": null,
   "metadata": {},
   "outputs": [],
   "source": []
  },
  {
   "cell_type": "code",
   "execution_count": null,
   "metadata": {},
   "outputs": [],
   "source": []
  },
  {
   "cell_type": "code",
   "execution_count": null,
   "metadata": {},
   "outputs": [],
   "source": []
  },
  {
   "cell_type": "code",
   "execution_count": null,
   "metadata": {},
   "outputs": [],
   "source": []
  },
  {
   "cell_type": "code",
   "execution_count": null,
   "metadata": {},
   "outputs": [],
   "source": []
  },
  {
   "cell_type": "code",
   "execution_count": null,
   "metadata": {},
   "outputs": [],
   "source": []
  },
  {
   "cell_type": "code",
   "execution_count": null,
   "metadata": {},
   "outputs": [],
   "source": []
  },
  {
   "cell_type": "code",
   "execution_count": null,
   "metadata": {},
   "outputs": [],
   "source": []
  },
  {
   "cell_type": "code",
   "execution_count": null,
   "metadata": {},
   "outputs": [],
   "source": []
  },
  {
   "cell_type": "code",
   "execution_count": null,
   "metadata": {},
   "outputs": [],
   "source": []
  },
  {
   "cell_type": "code",
   "execution_count": null,
   "metadata": {},
   "outputs": [],
   "source": []
  },
  {
   "cell_type": "code",
   "execution_count": null,
   "metadata": {},
   "outputs": [],
   "source": []
  }
 ],
 "metadata": {
  "kernelspec": {
   "display_name": "Python 3",
   "language": "python",
   "name": "python3"
  },
  "language_info": {
   "codemirror_mode": {
    "name": "ipython",
    "version": 3
   },
   "file_extension": ".py",
   "mimetype": "text/x-python",
   "name": "python",
   "nbconvert_exporter": "python",
   "pygments_lexer": "ipython3",
   "version": "3.6.7"
  }
 },
 "nbformat": 4,
 "nbformat_minor": 2
}
